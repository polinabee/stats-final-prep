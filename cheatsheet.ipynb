{
 "cells": [
  {
   "cell_type": "code",
   "execution_count": null,
   "metadata": {
    "pycharm": {
     "is_executing": true
    }
   },
   "outputs": [],
   "source": [
    "import pandas as pd\n",
    "import numpy as np\n",
    "import matplotlib.pyplot as plt\n",
    "import seaborn as sns\n",
    "import random\n",
    "import scipy.stats as st\n",
    "\n",
    "sns.set_theme(style=\"darkgrid\")\n",
    "random.seed(10)"
   ]
  },
  {
   "cell_type": "markdown",
   "metadata": {},
   "source": [
    "#### Data generating"
   ]
  },
  {
   "cell_type": "code",
   "execution_count": null,
   "metadata": {
    "pycharm": {
     "is_executing": true
    }
   },
   "outputs": [],
   "source": [
    "#### RANDOM VARIABLES ######\n",
    "random.random() # random number between 0 and 1\n",
    "random.randint(0,100) # random int between 0 and 100\n",
    "np.random.randint(0,100, size=5) # 5 random ints between 0 and 100\n",
    "np.random.sample() # random float between 0 and 1\n",
    "\n",
    "#### LISTS ####\n",
    "[x*0.111 for x in range(0, 100)] # incremental list 0 to 100 multiplied by .111\n",
    "np.arange(3) # 0,1,2\n",
    "\n",
    "#### DISTRIBUTIONS ####\n",
    "\n",
    "mu, sigma, n = 0, 1, 1000\n",
    "x = np.random.normal(mu, sigma, n)\n",
    "\n",
    "np.random.lognormal(mean=1.,sigma=.4,size=10000) #log normal distrbution\n",
    "\n",
    "n, p = 10, .5  # number of trials, probability of each trial\n",
    "s = np.random.binomial(n, p, 1000)\n",
    "\n",
    "l, h, t = -1,0,1000 # from, to, number of points\n",
    "np.random.uniform(l, h, t)\n",
    "\n",
    "np.random.poisson(5, 10000)\n"
   ]
  },
  {
   "cell_type": "markdown",
   "metadata": {},
   "source": [
    "#### Math functions"
   ]
  },
  {
   "cell_type": "code",
   "execution_count": null,
   "metadata": {
    "pycharm": {
     "is_executing": true,
     "name": "#%%\n"
    }
   },
   "outputs": [],
   "source": [
    "df.var(), series.var()  # variance\n",
    "series.mean(), series.median(), series.std() # mean, median, standard deviation\n",
    "series1.cov(s2) # covariance of two series\n",
    "series.rank() # assigns rank to series in order of magnitude\n"
   ]
  },
  {
   "cell_type": "markdown",
   "metadata": {},
   "source": [
    "#### DataFrame handling"
   ]
  },
  {
   "cell_type": "code",
   "execution_count": null,
   "metadata": {
    "pycharm": {
     "is_executing": true,
     "name": "#%%\n"
    }
   },
   "outputs": [],
   "source": [
    "pd.DataFrame(data={'w_a': w_a, 'w_b': w_b}) # arrays to DF\n",
    "df.sample(n) # random n rows of df\n",
    "\n",
    "wine_df_original[\"pred_prob\"] = y_prob[:,1] #getting only probabilities\n"
   ]
  },
  {
   "cell_type": "markdown",
   "metadata": {},
   "source": [
    "#### Plotting"
   ]
  },
  {
   "cell_type": "code",
   "execution_count": null,
   "metadata": {
    "pycharm": {
     "is_executing": true
    }
   },
   "outputs": [],
   "source": [
    "plt.tight_layout()\n",
    "\n",
    "#scatterplot\n",
    "sns.scatterplot(data=df[df.model == 'a'],x='x', y='y', alpha=0.3) #with dataframe\n",
    "sns.scatterplot(x=x, y=y, alpha=0.3,ax=ax[0]) # with arrays, no df\n",
    "\n",
    "# regression plot\n",
    "sns.regplot(data=df[df.label == 1],x='x', y='y',scatter_kws={'alpha':0.1})\n",
    "\n",
    "# PDF plot\n",
    "sns.kdeplot(data=df.x)\n",
    "\n",
    "#histogram\n",
    "sns.histplot(data=penguins, x=\"flipper_length_mm\")\n",
    "\n",
    "#line plot (with labels)\n",
    "sns.lineplot(x=fpr,y=tpr).set(xlabel=\"False Positive Rate\",ylabel = \"True Positive Rate\")\n"
   ]
  },
  {
   "cell_type": "markdown",
   "metadata": {},
   "source": [
    "#### Regressions / Classification"
   ]
  },
  {
   "cell_type": "code",
   "execution_count": null,
   "metadata": {
    "pycharm": {
     "is_executing": true,
     "name": "#%%\n"
    }
   },
   "outputs": [],
   "source": [
    "from sklearn import linear_model\n",
    "\n",
    "#### Lasso\n",
    "clf = linear_model.Lasso(alpha=0.1)\n",
    "clf.fit([[0,0], [1, 1], [2, 2]], [0, 1, 2])\n",
    "print(clf.coef_, clf.intercept_)\n",
    "\n",
    "#### Ridge\n",
    "ridge = Ridge(alpha = 10**10, normalize = True)\n",
    "ridge.fit(X_train, y_train) \n",
    "pred = ridge.predict(X_test)\n",
    "\n",
    "### KMeans Clustering\n",
    "from sklearn.cluster import KMeans\n",
    "res0 =  KMeans(n_clusters=2,algorithm=\"full\",max_iter=30).fit(X0)\n",
    "\n",
    "# Split data into training and test sets\n",
    "X_train, X_test , y_train, y_test = train_test_split(X, y, test_size=0.5)\n",
    "\n",
    "# Grid Search (hyperparameter tuning)\n",
    "parameters = {'kernel':('linear', 'rbf'), 'C':[1, 10]}\n",
    "clf = GridSearchCV(svc, parameters)\n",
    "clf.fit(X,y)\n",
    "clf.cv_results_\n"
   ]
  }
 ],
 "metadata": {
  "kernelspec": {
   "display_name": "Python 3",
   "language": "python",
   "name": "python3"
  },
  "language_info": {
   "codemirror_mode": {
    "name": "ipython",
    "version": 3
   },
   "file_extension": ".py",
   "mimetype": "text/x-python",
   "name": "python",
   "nbconvert_exporter": "python",
   "pygments_lexer": "ipython3",
   "version": "3.8.5"
  }
 },
 "nbformat": 4,
 "nbformat_minor": 1
}
