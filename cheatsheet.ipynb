{
 "cells": [
  {
   "cell_type": "code",
   "execution_count": 4,
   "metadata": {
    "pycharm": {
     "is_executing": true
    }
   },
   "outputs": [],
   "source": [
    "import pandas as pd\n",
    "import numpy as np\n",
    "import matplotlib.pyplot as plt\n",
    "import seaborn as sns\n",
    "import random\n",
    "import scipy.stats as st\n",
    "\n",
    "sns.set_theme(style=\"darkgrid\")\n",
    "random.seed(10)"
   ]
  },
  {
   "cell_type": "markdown",
   "metadata": {},
   "source": [
    "#### Data generating"
   ]
  },
  {
   "cell_type": "code",
   "execution_count": null,
   "metadata": {
    "pycharm": {
     "is_executing": true
    }
   },
   "outputs": [],
   "source": [
    "#### RANDOM VARIABLES ######\n",
    "random.random() # random number between 0 and 1\n",
    "random.randint(0,100) # random int between 0 and 100\n",
    "np.random.randint(0,100, size=5) # 5 random ints between 0 and 100\n",
    "np.random.sample() # random float between 0 and 1\n",
    "\n",
    "\n",
    "#### DISTRIBUTIONS ####\n",
    "\n",
    "mu, sigma, n = 0, 1, 1000\n",
    "x = np.random.normal(mu, sigma, n)\n",
    "\n",
    "np.random.lognormal(mean=1.,sigma=.4,size=10000) #log normal distrbution\n",
    "\n",
    "n, p = 10, .5  # number of trials, probability of each trial\n",
    "s = np.random.binomial(n, p, 1000)\n",
    "\n",
    "l, h, t = -1,0,1000 # from, to, number of points\n",
    "np.random.uniform(l, h, t)\n",
    "\n",
    "np.random.poisson(5, 10000)\n"
   ]
  },
  {
   "cell_type": "markdown",
   "metadata": {},
   "source": [
    "#### Math functions"
   ]
  },
  {
   "cell_type": "code",
   "execution_count": null,
   "metadata": {
    "pycharm": {
     "is_executing": true,
     "name": "#%%\n"
    }
   },
   "outputs": [],
   "source": [
    "df.var(), series.var()  # variance\n"
   ]
  },
  {
   "cell_type": "markdown",
   "metadata": {},
   "source": [
    "#### DataFrame handling"
   ]
  },
  {
   "cell_type": "code",
   "execution_count": null,
   "metadata": {
    "pycharm": {
     "is_executing": true,
     "name": "#%%\n"
    }
   },
   "outputs": [],
   "source": [
    "pd.DataFrame(data={'w_a': w_a, 'w_b': w_b}) # arrays to DF\n"
   ]
  },
  {
   "cell_type": "markdown",
   "metadata": {},
   "source": [
    "#### Plotting"
   ]
  },
  {
   "cell_type": "code",
   "execution_count": null,
   "metadata": {
    "pycharm": {
     "is_executing": true
    }
   },
   "outputs": [],
   "source": [
    "#scatterplot\n",
    "sns.scatterplot(data=df[df.model == 'a'],x='x', y='y', alpha=0.3) #with dataframe\n",
    "sns.scatterplot(x=x, y=y, alpha=0.3,ax=ax[0]) # with arrays, no df\n",
    "\n",
    "# regression plot\n",
    "sns.regplot(data=df[df.label == 1],x='x', y='y',scatter_kws={'alpha':0.1})\n",
    "\n",
    "# PDF plot\n",
    "sns.kdeplot(data=df.x)\n"
   ]
  },
  {
   "cell_type": "markdown",
   "metadata": {},
   "source": [
    "### Useful Links\n",
    "- [Numpy utilities](https://queirozf.com/entries/numpy-scipy-distributions-and-statistical-operations-examples-reference)\n",
    "- [Monte Carlo Simulation](https://pbpython.com/monte-carlo.html)"
   ]
  }
 ],
 "metadata": {
  "kernelspec": {
   "display_name": "Python 3",
   "language": "python",
   "name": "python3"
  },
  "language_info": {
   "codemirror_mode": {
    "name": "ipython",
    "version": 3
   },
   "file_extension": ".py",
   "mimetype": "text/x-python",
   "name": "python",
   "nbconvert_exporter": "python",
   "pygments_lexer": "ipython3",
   "version": "3.8.5"
  }
 },
 "nbformat": 4,
 "nbformat_minor": 1
}
