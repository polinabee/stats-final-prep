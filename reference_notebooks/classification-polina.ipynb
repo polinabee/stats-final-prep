{
 "cells": [
  {
   "cell_type": "markdown",
   "metadata": {},
   "source": [
    "<img src = \"bgsedsc_0.jpg\">\n",
    "$\\newcommand{\\bb}{\\boldsymbol{\\beta}}$\n",
    "$\\DeclareMathOperator{\\Gau}{\\mathcal{N}}$\n",
    "$\\newcommand{\\bphi}{\\boldsymbol \\phi}$\n",
    "$\\newcommand{\\bpi}{\\boldsymbol \\pi}$\n",
    "$\\newcommand{\\bx}{\\boldsymbol{x}}$\n",
    "$\\newcommand{\\by}{\\boldsymbol{y}}$\n",
    "$\\newcommand{\\bmu}{\\boldsymbol{\\mu}}$\n",
    "$\\newcommand{\\bS}{\\boldsymbol{\\Sigma}}$\n",
    "$\\newcommand{\\whbb}{\\widehat{\\bb}}$\n",
    "$\\newcommand{\\hf}{\\hat{f}}$\n",
    "$\\newcommand{\\hy}{\\hat{y}}$\n",
    "$\\newcommand{\\tf}{\\tilde{f}}$\n",
    "$\\newcommand{\\ybar}{\\overline{y}}$\n",
    "$\\newcommand{\\E}{\\mathbb{E}}$\n",
    "$\\newcommand{\\Var}{Var}$\n",
    "$\\newcommand{\\Cov}{Cov}$\n",
    "$\\newcommand{\\Cor}{Cor}$"
   ]
  },
  {
   "cell_type": "markdown",
   "metadata": {},
   "source": [
    "# Classification\n",
    "\n",
    "In some ways there is very little to say about classification: it is like regression but with categorical response. As before there will be a learning function $f(\\bx)$ but now the model that relates it to the response has to change to reflect the different characteristics thereof. But we can use the same set of tools - loss functions will change and as a result our tools of measuring performance too. \n",
    "\n",
    "On the other hand, this is a very common prediction problem and it is worth to understand deeper some of its intricacies\n",
    "\n",
    "We will start with binary classification - the response is one of two categories. The labelling of the categories is arbitrary and any sensible methodology should not rely on how these categories are coded numerically. We will stick to 0/1 coding for the two categories. This is mathematically more convenient for the methods we will use here. For other approaches to classification -1/1 might be more convenient. \n"
   ]
  },
  {
   "cell_type": "markdown",
   "metadata": {},
   "source": [
    "## Summary\n",
    "\n",
    "In this module we build predictive models for categorical outputs, following the same paradigm as in regression but changing the distribution that relates the output $y$ to the learning function $f(\\bx)$. We also adapt appropriately the model performance criteria and introduce concepts such as the misclassification probability, the ROC curve and AUC score. We discuss the problem of class imbalance and some solutions. We show how to predict multicategorical and ordinal output in a simple framework."
   ]
  },
  {
   "cell_type": "markdown",
   "metadata": {},
   "source": [
    "## The spam dataset\n",
    "\n",
    "This is a classic dataset for binary classification, it can be found in the UCI repository\n",
    "\n",
    "http://www.ics.uci.edu/~mlearn/MLRepository.html\n",
    "\n",
    "and it is analyzed in few different ways in the Hastie et al. book \n",
    "\n",
    "I have created a version with a subset of the variables"
   ]
  },
  {
   "cell_type": "code",
   "execution_count": 1,
   "metadata": {},
   "outputs": [
    {
     "name": "stderr",
     "output_type": "stream",
     "text": [
      "/Users/polinab/.virtualenvs/base/lib/python3.8/site-packages/pandas/compat/__init__.py:120: UserWarning: Could not import the lzma module. Your installed Python is incomplete. Attempting to use lzma compression will result in a RuntimeError.\n",
      "  warnings.warn(msg)\n"
     ]
    }
   ],
   "source": [
    "import pandas as pd\n",
    "%matplotlib inline\n",
    "import numpy as np\n",
    "# This is a Python module that contains plotting commands\n",
    "import matplotlib.pyplot as plt\n",
    "# the following provides further tools for plotting with dfs\n",
    "import seaborn as sns "
   ]
  },
  {
   "cell_type": "code",
   "execution_count": 2,
   "metadata": {},
   "outputs": [
    {
     "data": {
      "text/html": [
       "<div>\n",
       "<style scoped>\n",
       "    .dataframe tbody tr th:only-of-type {\n",
       "        vertical-align: middle;\n",
       "    }\n",
       "\n",
       "    .dataframe tbody tr th {\n",
       "        vertical-align: top;\n",
       "    }\n",
       "\n",
       "    .dataframe thead th {\n",
       "        text-align: right;\n",
       "    }\n",
       "</style>\n",
       "<table border=\"1\" class=\"dataframe\">\n",
       "  <thead>\n",
       "    <tr style=\"text-align: right;\">\n",
       "      <th></th>\n",
       "      <th>char_freq_%5B</th>\n",
       "      <th>char_freq_%21</th>\n",
       "      <th>char_freq_%24</th>\n",
       "      <th>char_freq_%23</th>\n",
       "      <th>capital_run_length_average</th>\n",
       "      <th>capital_run_length_longest</th>\n",
       "      <th>capital_run_length_total</th>\n",
       "      <th>class</th>\n",
       "    </tr>\n",
       "  </thead>\n",
       "  <tbody>\n",
       "    <tr>\n",
       "      <th>0</th>\n",
       "      <td>0.0</td>\n",
       "      <td>0.778</td>\n",
       "      <td>0.000</td>\n",
       "      <td>0.000</td>\n",
       "      <td>3.756</td>\n",
       "      <td>61</td>\n",
       "      <td>278</td>\n",
       "      <td>1</td>\n",
       "    </tr>\n",
       "    <tr>\n",
       "      <th>1</th>\n",
       "      <td>0.0</td>\n",
       "      <td>0.372</td>\n",
       "      <td>0.180</td>\n",
       "      <td>0.048</td>\n",
       "      <td>5.114</td>\n",
       "      <td>101</td>\n",
       "      <td>1028</td>\n",
       "      <td>1</td>\n",
       "    </tr>\n",
       "    <tr>\n",
       "      <th>2</th>\n",
       "      <td>0.0</td>\n",
       "      <td>0.276</td>\n",
       "      <td>0.184</td>\n",
       "      <td>0.010</td>\n",
       "      <td>9.821</td>\n",
       "      <td>485</td>\n",
       "      <td>2259</td>\n",
       "      <td>1</td>\n",
       "    </tr>\n",
       "    <tr>\n",
       "      <th>3</th>\n",
       "      <td>0.0</td>\n",
       "      <td>0.137</td>\n",
       "      <td>0.000</td>\n",
       "      <td>0.000</td>\n",
       "      <td>3.537</td>\n",
       "      <td>40</td>\n",
       "      <td>191</td>\n",
       "      <td>1</td>\n",
       "    </tr>\n",
       "    <tr>\n",
       "      <th>4</th>\n",
       "      <td>0.0</td>\n",
       "      <td>0.135</td>\n",
       "      <td>0.000</td>\n",
       "      <td>0.000</td>\n",
       "      <td>3.537</td>\n",
       "      <td>40</td>\n",
       "      <td>191</td>\n",
       "      <td>1</td>\n",
       "    </tr>\n",
       "  </tbody>\n",
       "</table>\n",
       "</div>"
      ],
      "text/plain": [
       "   char_freq_%5B  char_freq_%21  char_freq_%24  char_freq_%23  \\\n",
       "0            0.0          0.778          0.000          0.000   \n",
       "1            0.0          0.372          0.180          0.048   \n",
       "2            0.0          0.276          0.184          0.010   \n",
       "3            0.0          0.137          0.000          0.000   \n",
       "4            0.0          0.135          0.000          0.000   \n",
       "\n",
       "   capital_run_length_average  capital_run_length_longest  \\\n",
       "0                       3.756                          61   \n",
       "1                       5.114                         101   \n",
       "2                       9.821                         485   \n",
       "3                       3.537                          40   \n",
       "4                       3.537                          40   \n",
       "\n",
       "   capital_run_length_total  class  \n",
       "0                       278      1  \n",
       "1                      1028      1  \n",
       "2                      2259      1  \n",
       "3                       191      1  \n",
       "4                       191      1  "
      ]
     },
     "execution_count": 2,
     "metadata": {},
     "output_type": "execute_result"
    }
   ],
   "source": [
    "#subset initial dataset to last n columns, first 100 rows\n",
    "spam = pd.read_csv(\"../data/spambase_csv.csv\").iloc[:, 50:][:5000]\n",
    "spam.head()"
   ]
  },
  {
   "cell_type": "code",
   "execution_count": 3,
   "metadata": {},
   "outputs": [
    {
     "data": {
      "text/plain": [
       "<AxesSubplot:>"
      ]
     },
     "execution_count": 3,
     "metadata": {},
     "output_type": "execute_result"
    },
    {
     "data": {
      "image/png": "[encoded data removed]",
      "text/plain": [
       "<Figure size 432x288 with 1 Axes>"
      ]
     },
     "metadata": {
      "needs_background": "light"
     },
     "output_type": "display_data"
    }
   ],
   "source": [
    "# Lets explore some basic aspects of this dataset\n",
    "\n",
    "spam[\"class\"].value_counts().plot(kind=\"bar\")"
   ]
  },
  {
   "cell_type": "code",
   "execution_count": 4,
   "metadata": {},
   "outputs": [
    {
     "data": {
      "text/plain": [
       "0         AxesSubplot(0.1,0.15;0.363636x0.75)\n",
       "1    AxesSubplot(0.536364,0.15;0.363636x0.75)\n",
       "dtype: object"
      ]
     },
     "execution_count": 4,
     "metadata": {},
     "output_type": "execute_result"
    },
    {
     "data": {
      "image/png": "[encoded data removed]",
      "text/plain": [
       "<Figure size 432x288 with 2 Axes>"
      ]
     },
     "metadata": {
      "needs_background": "light"
     },
     "output_type": "display_data"
    }
   ],
   "source": [
    "spam.groupby(\"class\").boxplot()"
   ]
  },
  {
   "cell_type": "code",
   "execution_count": 5,
   "metadata": {},
   "outputs": [
    {
     "data": {
      "text/plain": [
       "Index(['char_freq_%5B', 'char_freq_%21', 'char_freq_%24', 'char_freq_%23',\n",
       "       'capital_run_length_average', 'capital_run_length_longest',\n",
       "       'capital_run_length_total', 'class'],\n",
       "      dtype='object')"
      ]
     },
     "execution_count": 5,
     "metadata": {},
     "output_type": "execute_result"
    }
   ],
   "source": [
    "# recall that\n",
    "\n",
    "spam.columns"
   ]
  },
  {
   "cell_type": "markdown",
   "metadata": {},
   "source": [
    "The previous exploratory analysis is analogous to screening by correlations in regression. We could for example test nonparametrically equality of the two distributions - although these are only assessing marginal dependence and not interactions "
   ]
  },
  {
   "cell_type": "markdown",
   "metadata": {},
   "source": [
    "## Probabilistic classification using logistic regression\n",
    "\n",
    "We will follow a very analogous route to regression. There will be a learning function and we will take to be linear in parameters and features: \n",
    "\n",
    "$$ f(\\bx_i,\\bb) = \\bb^T \\bphi_i$$\n",
    "\n",
    "We will also model the distribution of the response and relate this distribution to the linear predictor\n",
    "\n",
    "There is no assumptions in this case for the distribution of the response: there is only one distribution to describe binary variables, the *Bernoulli*. Our probabilistic binary classification models take: \n",
    "\n",
    "$$ y_i \\sim Bernoulli(\\pi_i) \\iff p(y_i=1) = \\pi_i \\quad p(y_i=0) = 1-\\pi_i$$\n",
    "\n",
    "The remaining assumption we will make is how to relate $\\pi_i$ to the linear predictor. We basically need a transformation that maps real values to $[0,1]$. The *logistic transformation* is one option and leads to the so-called **logistic regression**:\n",
    "\n",
    "\\begin{equation}\n",
    "y_i \\sim Bernoulli\\left({1 \\over 1 + e^{-f(\\bx_i,\\bb)}}\\right)\n",
    "\\end{equation}\n",
    "\n",
    "The function that maps $f(\\bx_i,\\bb)$ to $\\pi_i$ is shown below: \n",
    "\n",
    "<img src=\"480px-Logistic-curve.png\" width = 300>\n",
    "\n",
    "Basic math shows that in this model \n",
    "\n",
    "$$- \\log p(y_i | \\bx_i) =  \\log (1+e^{-f(\\bx_i,\\bb)}) + y_i f(\\bx_i,\\bb) $$ \n",
    "\n",
    "hence, the loss function becomes \n",
    "\n",
    "$$L(\\bb) = \\sum_i \\log (1+e^{-f(\\bx_i,\\bb)}) + y_i f(\\bx_i,\\bb) $$\n",
    "\n",
    "This is also **convex** and can be optimized efficiently (this true for other *link* functions too, e.g. probit). A standard way to do this is using Fisher scoring, a variation of Newton-Raphson - these are **gradient-descent iterative optimization algorithms**. These work in the same way for the whole family of **generalized linear models**\n"
   ]
  },
  {
   "cell_type": "markdown",
   "metadata": {},
   "source": [
    "We now fit the model to the spam dataset. For the moment we will use the original variables as features\n",
    "\n",
    "Here we focus on predictive modelling and the `LogisticRegression` is reasonable. For inference this is not providing enough detail. This function actually optimizes over a penalized likelihood loss function, the default being a rigde penalty. We will set the regularization parameter to a very small value to keep its effect minimal for the time being ($n$ here is very large relative to $p$)\n",
    "\n",
    "Note that unlike `LinearRegression` now we can feed the function with dfs and series... "
   ]
  },
  {
   "cell_type": "code",
   "execution_count": 6,
   "metadata": {},
   "outputs": [],
   "source": [
    "\n",
    "F = spam.drop('class', axis = 1)\n",
    "y = spam[\"class\"]\n",
    "\n",
    "# to print stats\n",
    "feature_names = F.columns\n",
    "class_labels = [\"email\",\"spam\"] # meant to represent 0 and 1"
   ]
  },
  {
   "cell_type": "code",
   "execution_count": 7,
   "metadata": {},
   "outputs": [
    {
     "name": "stdout",
     "output_type": "stream",
     "text": [
      "1     0.913018\n",
      "2     0.999691\n",
      "3     0.280454\n",
      "4     0.279907\n",
      "5     0.178868\n",
      "6     0.282437\n",
      "7     0.167294\n",
      "8     0.999427\n",
      "9     0.525047\n",
      "10    0.249381\n",
      "11    0.322685\n",
      "12    0.562978\n",
      "13    0.157040\n",
      "14    0.281502\n",
      "Name: pi_i, dtype: float64\n"
     ]
    }
   ],
   "source": [
    "# importing the relevant sklearn tools\n",
    "from sklearn.linear_model import LogisticRegression\n",
    "\n",
    "lregr = LogisticRegression(penalty='l2', C=100.0, \n",
    "                           fit_intercept=True, \n",
    "                           intercept_scaling=1, \n",
    "                           solver='liblinear', max_iter=500)\n",
    "\n",
    "# Fiting logistic regression\n",
    "\n",
    "lregr.fit(F,y)      \n",
    "\n",
    "# Compute the predicted probabilities in-sample\n",
    "\n",
    "insample_pred = lregr.predict_proba(F)\n",
    "\n",
    "insample_pred_res = spam.copy()\n",
    "\n",
    "insample_pred_res[\"pi_i\"] = insample_pred[:,1]\n",
    "\n",
    "print(insample_pred_res.iloc[1:15,-1])"
   ]
  },
  {
   "cell_type": "code",
   "execution_count": 8,
   "metadata": {},
   "outputs": [
    {
     "data": {
      "text/plain": [
       "<AxesSubplot:title={'center':'pi_i'}, xlabel='class'>"
      ]
     },
     "execution_count": 8,
     "metadata": {},
     "output_type": "execute_result"
    },
    {
     "data": {
      "image/png": "[encoded data removed]",
      "text/plain": [
       "<Figure size 432x288 with 1 Axes>"
      ]
     },
     "metadata": {
      "needs_background": "light"
     },
     "output_type": "display_data"
    }
   ],
   "source": [
    "# lets see more globally the fitted probs\n",
    "\n",
    "insample_pred_res.boxplot(column=\"pi_i\",by=\"class\")"
   ]
  },
  {
   "cell_type": "markdown",
   "metadata": {},
   "source": [
    "## Turning probabilities into class prediction\n",
    "\n",
    "The *probabilistic classifier* we use explicitly accounts for misclassification errors. The algorithm returns probabilities and these also reflect the classification uncertainty\n",
    "\n",
    "Recall that if $y \\sim Bernoulli(\\pi)$ then $\\Var(y) = \\pi (1- \\pi)$, which is large for $\\pi \\approx 1/2$\n",
    "\n",
    "Often this is all one needs to have to do sensible data analysis - the probabilities (*see advanced material for details*)\n",
    "\n"
   ]
  },
  {
   "cell_type": "markdown",
   "metadata": {},
   "source": [
    "\n",
    "In other contexts it might be of interest to turn probabilities into class predictions, $\\hy_i \\in \\{0,1\\}$, e.g., to report medical tests (pregnant/no pregnant) - the spam example is also a good example: a decision has to be taken for each email and it is convenient to have the algorithm produce class predictions. We will denote those by $\\hy_i$\n",
    "\n",
    "With class prediction there will be **misclassification errors**: false positives and false negatives\n",
    "\n",
    "Before we go into details, lets see what the default operations in `sklearn` do for us. We can compute the following quantities in or out of sample and cross-validated too - basically all the discussion about use of sample for evaluation for regression applies here too. For the moment we experiment with in-sample calculations"
   ]
  },
  {
   "cell_type": "code",
   "execution_count": 9,
   "metadata": {},
   "outputs": [
    {
     "data": {
      "text/plain": [
       "array([1, 1, 1, 0, 0, 0, 0, 0, 1, 1])"
      ]
     },
     "execution_count": 9,
     "metadata": {},
     "output_type": "execute_result"
    }
   ],
   "source": [
    "# this is the predict method in the LogisticRegression object\n",
    "y_hat = lregr.predict(F)\n",
    "y_hat[0:10]"
   ]
  },
  {
   "cell_type": "code",
   "execution_count": 10,
   "metadata": {},
   "outputs": [
    {
     "name": "stdout",
     "output_type": "stream",
     "text": [
      "[[2651  137]\n",
      " [ 627 1186]]\n"
     ]
    },
    {
     "data": {
      "text/plain": [
       "<AxesSubplot:>"
      ]
     },
     "execution_count": 10,
     "metadata": {},
     "output_type": "execute_result"
    },
    {
     "data": {
      "image/png": "[encoded data removed]",
      "text/plain": [
       "<Figure size 432x288 with 2 Axes>"
      ]
     },
     "metadata": {
      "needs_background": "light"
     },
     "output_type": "display_data"
    }
   ],
   "source": [
    "from sklearn.metrics import confusion_matrix\n",
    "\n",
    "#confusion matrix\n",
    "cm =  confusion_matrix(y_pred=y_hat, y_true=y, labels=[0,1])\n",
    "print(cm)\n",
    "# Plotting confusion matrix (custom help function)\n",
    "sns.heatmap(cm,annot=True,fmt=\"d\",cmap=\"PuBu\")\n"
   ]
  },
  {
   "cell_type": "markdown",
   "metadata": {},
   "source": [
    "What `.predict` has done is the following: if $\\pi_i \\geq 1/2$ it sets $\\hy_i = 1$. This is verified below: "
   ]
  },
  {
   "cell_type": "code",
   "execution_count": 11,
   "metadata": {},
   "outputs": [
    {
     "data": {
      "text/plain": [
       "array([[4.38893207e-01, 5.61106793e-01],\n",
       "       [8.69821112e-02, 9.13017889e-01],\n",
       "       [3.08983502e-04, 9.99691016e-01],\n",
       "       ...,\n",
       "       [8.47100893e-01, 1.52899107e-01],\n",
       "       [8.50938455e-01, 1.49061545e-01],\n",
       "       [8.28202407e-01, 1.71797593e-01]])"
      ]
     },
     "execution_count": 11,
     "metadata": {},
     "output_type": "execute_result"
    }
   ],
   "source": [
    "insample_pred"
   ]
  },
  {
   "cell_type": "code",
   "execution_count": 12,
   "metadata": {},
   "outputs": [
    {
     "name": "stdout",
     "output_type": "stream",
     "text": [
      "[[2651  137]\n",
      " [ 627 1186]]\n"
     ]
    },
    {
     "data": {
      "text/plain": [
       "<AxesSubplot:>"
      ]
     },
     "execution_count": 12,
     "metadata": {},
     "output_type": "execute_result"
    },
    {
     "data": {
      "image/png": "[encoded data removed]",
      "text/plain": [
       "<Figure size 432x288 with 2 Axes>"
      ]
     },
     "metadata": {
      "needs_background": "light"
     },
     "output_type": "display_data"
    }
   ],
   "source": [
    "y_hat_new = np.ones(y.size)\n",
    "y_hat_new[insample_pred[:,1] <0.5] = 0\n",
    "#confusion matrix\n",
    "\n",
    "cm =  confusion_matrix(y_pred=y_hat_new, y_true=y, labels=[0,1])\n",
    "print (cm)\n",
    "# Plotting confusion matrix \n",
    "sns.heatmap(cm,annot=True,fmt=\"d\",cmap=\"PuBu\")\n"
   ]
  },
  {
   "cell_type": "markdown",
   "metadata": {},
   "source": [
    "Depending on the application the losses can be very different (remember the medical example). Let \n",
    "\n",
    "$$L(true,predict)$$ \n",
    "\n",
    "be a loss function that computes the cost of misclassification - this is something that requires context information not in the data. We take \n",
    "\n",
    "$$L(0,0) = L(1,1) = 0 \\quad L(1,0) > 0 \\quad L(0,1) > 0$$\n",
    "\n",
    "Little math shows that if $L(1,0)/L(0,1) = C$ the optimal decision is: \n",
    "\n",
    "$$\\hy_i = 1 \\iff \\pi_i > {1 \\over 1+C}$$"
   ]
  },
  {
   "cell_type": "markdown",
   "metadata": {},
   "source": [
    "### Misclassification rate\n",
    "\n",
    "$$p[ y \\neq \\hy]$$ \n",
    "\n",
    "is known as the misclassification probability. This can be estimated from data very much the same way as $R^2$: in sample (which can be negatively biased), out of sample (which is data intensive), by cross-validation etc; also by using more advanced math, such as *concentration inequalities*\n",
    "\n",
    "This number in isolation means pretty much nothing. Consider or example the (all too common situation) where we wish to predict $y$ in a population such that $p[y=1] = 0.001$. Then classifying everyone as $\\hy = 0$ yields a misclassification probability 0.001 but the algorithm is never able to identify the class of interest. Missclassification rate can be useful in comparisons. \n",
    "\n",
    "There are other performance metrics - related to conditional probabilities - e.g. $p[\\hy =1 | y=1]$ etc - such as specificity/sensitivity for qualifying the performance of a classifier"
   ]
  },
  {
   "cell_type": "markdown",
   "metadata": {},
   "source": [
    "### ROC curve and AUC\n",
    "\n",
    "A common tool to assess the performance of a probabilistic classifier is the ROC curve. Each point on this curve is (an estimate of) pair\n",
    "\n",
    "$$\n",
    "(p([\\hy = 1 | y = 0] , p[\\hy =1 | y = 1]) \n",
    "$$\n",
    "\n",
    "For a given threshold $t$ we can estimate these probabilities from the confusion matrix - obtained in the best way we can - simply by computing the associated frequencies\n",
    "\n",
    "As we vary the threshold the confusion matrices change and the frequencies too: varying $t$ from 0 to 1 we obtain the ROC curve - read the figure from right to left\n",
    "\n",
    "We do this now using a customized function. I will do it on a test spam data\n"
   ]
  },
  {
   "cell_type": "code",
   "execution_count": 13,
   "metadata": {},
   "outputs": [
    {
     "name": "stdout",
     "output_type": "stream",
     "text": [
      "0.8994644331034984\n"
     ]
    },
    {
     "data": {
      "text/plain": [
       "[Text(0.5, 0, 'False Positive Rate'), Text(0, 0.5, 'True Positive Rate')]"
      ]
     },
     "execution_count": 13,
     "metadata": {},
     "output_type": "execute_result"
    },
    {
     "data": {
      "image/png": "[encoded data removed]",
      "text/plain": [
       "<Figure size 432x288 with 1 Axes>"
      ]
     },
     "metadata": {
      "needs_background": "light"
     },
     "output_type": "display_data"
    }
   ],
   "source": [
    "# read the test data, extract the info and create predictions\n",
    "from sklearn import metrics\n",
    "import scikitplot as skplt\n",
    "import matplotlib.pyplot as plt\n",
    "\n",
    "\n",
    "spam_test = pd.read_csv(\"../data/spambase_csv.csv\").iloc[:, 50:]\n",
    "Ftest = spam_test.drop(\"class\",axis=1)\n",
    "ytest = spam_test[\"class\"]\n",
    "test_pred_proba = lregr.predict_proba(Ftest)[:,1]\n",
    "test_pred_label = [1 if x > 0.5 else 1 for x in test_pred_proba]\n",
    "\n",
    "fpr, tpr, thresholds = metrics.roc_curve(ytest.values, test_pred_proba, pos_label=1)\n",
    "\n",
    "# # Custom plot function\n",
    "roc_auc = metrics.auc(fpr, tpr)\n",
    "print(roc_auc)\n",
    "\n",
    "sns.lineplot(x=fpr,y=tpr).set(xlabel=\"False Positive Rate\"\n",
    "                              , ylabel = \"True Positive Rate\")\n"
   ]
  },
  {
   "cell_type": "markdown",
   "metadata": {},
   "source": [
    "AUC is the Area Under (the ROC) Curve\n",
    "\n",
    "It has though an interesting and solid statistical interpretation. It can be directly related to a non-parametric test - the **Mann-Whitney** that the following two samples come from the same distribution: \n",
    "\n",
    "$$\n",
    "\\textrm{class 1 probs }: \\{\\pi_i: y_i = 1\\} \\quad \\textrm{class 0 probs }: \\{\\pi_i: y_i = 0\\}\n",
    "$$\n",
    "\n",
    "You would expect that for a decent classifier the two samples come from different distributions and the distribution of the \"class 1 probs\" is stochastically greater. If the two distributions were identical we would obtain the green-dashed ROC curve.\n",
    "\n",
    "Consider a contest between the two samples:  each element of the first we compare with all of the elements in the second and record how many times it was at least as big. AUC is the frequency of won contests!\n",
    "\n",
    "For some `sklearn` tools check \n",
    "\n",
    "http://scikit-learn.org/stable/modules/generated/sklearn.metrics.auc.html"
   ]
  },
  {
   "cell_type": "markdown",
   "metadata": {},
   "source": [
    "### Exercise\n",
    "As a sanity check, draw the curve for estimates using in-sample predictions.\n",
    "\n",
    "What do expect in-sample AUC to be, higher or lower than out-of-sample AUC? "
   ]
  },
  {
   "cell_type": "code",
   "execution_count": 14,
   "metadata": {},
   "outputs": [
    {
     "name": "stdout",
     "output_type": "stream",
     "text": [
      "0.88223495786521\n"
     ]
    },
    {
     "data": {
      "text/plain": [
       "[Text(0.5, 0, 'False Positive Rate'), Text(0, 0.5, 'True Positive Rate')]"
      ]
     },
     "execution_count": 14,
     "metadata": {},
     "output_type": "execute_result"
    },
    {
     "data": {
      "image/png": "[encoded data removed]",
      "text/plain": [
       "<Figure size 432x288 with 1 Axes>"
      ]
     },
     "metadata": {
      "needs_background": "light"
     },
     "output_type": "display_data"
    }
   ],
   "source": [
    "# Here I used a smaller sample, with a lower score\n",
    "spam_test = pd.read_csv(\"../data/spambase_csv.csv\").iloc[:, 50:][:2000]\n",
    "Ftest = spam_test.drop(\"class\",axis=1)\n",
    "ytest = spam_test[\"class\"]\n",
    "test_pred_proba = lregr.predict_proba(Ftest)[:,1]\n",
    "test_pred_label = [1 if x > 0.5 else 1 for x in test_pred_proba]\n",
    "\n",
    "fpr, tpr, thresholds = metrics.roc_curve(ytest.values, test_pred_proba, pos_label=1)\n",
    "\n",
    "# # Custom plot function\n",
    "roc_auc = metrics.auc(fpr, tpr)\n",
    "print(roc_auc)\n",
    "\n",
    "sns.lineplot(x=fpr,y=tpr).set(xlabel=\"False Positive Rate\"\n",
    "                              , ylabel = \"True Positive Rate\")"
   ]
  },
  {
   "cell_type": "markdown",
   "metadata": {
    "collapsed": true
   },
   "source": [
    "## Class imbalance\n",
    "\n",
    "### Context\n",
    "\n",
    "Typically, we want to predict the incidence of a rare event:  rare disease, an accident, a default, exceptional performance, etc, on the basis of measured characteristics. \n",
    "\n",
    "If we collect data *prospectively* we will end up with a sample with very little representation of the class we are particularly interested in. Hence it will be hard to learn the function that separates \"rare\" from \"common\" on the basis of the measured characteristics; indeed classifiers will not mind overpredicting the \"common\". \n",
    "\n",
    "Lets look at an example first"
   ]
  },
  {
   "cell_type": "markdown",
   "metadata": {},
   "source": [
    "### Can we predict good wine ? \n",
    "\n",
    "This is another standard dataset available from the UCI repository. It is really about **ordinal regression** - or maybe **multiclass classification**. Here we will for illustration consider (at the expense of losing information) a transformation of the response \n"
   ]
  },
  {
   "cell_type": "code",
   "execution_count": 15,
   "metadata": {},
   "outputs": [],
   "source": [
    "wine_df = pd.read_csv(\"https://archive.ics.uci.edu/ml/machine-learning-databases/wine-quality/winequality-red.csv\", sep=';')\n",
    "# wine_df = pd.read_csv(\"wine.csv\")"
   ]
  },
  {
   "cell_type": "code",
   "execution_count": 16,
   "metadata": {},
   "outputs": [
    {
     "data": {
      "text/html": [
       "<div>\n",
       "<style scoped>\n",
       "    .dataframe tbody tr th:only-of-type {\n",
       "        vertical-align: middle;\n",
       "    }\n",
       "\n",
       "    .dataframe tbody tr th {\n",
       "        vertical-align: top;\n",
       "    }\n",
       "\n",
       "    .dataframe thead th {\n",
       "        text-align: right;\n",
       "    }\n",
       "</style>\n",
       "<table border=\"1\" class=\"dataframe\">\n",
       "  <thead>\n",
       "    <tr style=\"text-align: right;\">\n",
       "      <th></th>\n",
       "      <th>fixed acidity</th>\n",
       "      <th>volatile acidity</th>\n",
       "      <th>citric acid</th>\n",
       "      <th>residual sugar</th>\n",
       "      <th>chlorides</th>\n",
       "      <th>free sulfur dioxide</th>\n",
       "      <th>total sulfur dioxide</th>\n",
       "      <th>density</th>\n",
       "      <th>pH</th>\n",
       "      <th>sulphates</th>\n",
       "      <th>alcohol</th>\n",
       "      <th>quality</th>\n",
       "    </tr>\n",
       "  </thead>\n",
       "  <tbody>\n",
       "    <tr>\n",
       "      <th>499</th>\n",
       "      <td>8.7</td>\n",
       "      <td>0.690</td>\n",
       "      <td>0.31</td>\n",
       "      <td>3.0</td>\n",
       "      <td>0.086</td>\n",
       "      <td>23.0</td>\n",
       "      <td>81.0</td>\n",
       "      <td>1.00020</td>\n",
       "      <td>3.48</td>\n",
       "      <td>0.74</td>\n",
       "      <td>11.6</td>\n",
       "      <td>6</td>\n",
       "    </tr>\n",
       "    <tr>\n",
       "      <th>923</th>\n",
       "      <td>6.8</td>\n",
       "      <td>0.410</td>\n",
       "      <td>0.31</td>\n",
       "      <td>8.8</td>\n",
       "      <td>0.084</td>\n",
       "      <td>26.0</td>\n",
       "      <td>45.0</td>\n",
       "      <td>0.99824</td>\n",
       "      <td>3.38</td>\n",
       "      <td>0.64</td>\n",
       "      <td>10.1</td>\n",
       "      <td>6</td>\n",
       "    </tr>\n",
       "    <tr>\n",
       "      <th>559</th>\n",
       "      <td>13.0</td>\n",
       "      <td>0.470</td>\n",
       "      <td>0.49</td>\n",
       "      <td>4.3</td>\n",
       "      <td>0.085</td>\n",
       "      <td>6.0</td>\n",
       "      <td>47.0</td>\n",
       "      <td>1.00210</td>\n",
       "      <td>3.30</td>\n",
       "      <td>0.68</td>\n",
       "      <td>12.7</td>\n",
       "      <td>6</td>\n",
       "    </tr>\n",
       "    <tr>\n",
       "      <th>898</th>\n",
       "      <td>8.3</td>\n",
       "      <td>0.310</td>\n",
       "      <td>0.39</td>\n",
       "      <td>2.4</td>\n",
       "      <td>0.078</td>\n",
       "      <td>17.0</td>\n",
       "      <td>43.0</td>\n",
       "      <td>0.99444</td>\n",
       "      <td>3.31</td>\n",
       "      <td>0.77</td>\n",
       "      <td>12.5</td>\n",
       "      <td>7</td>\n",
       "    </tr>\n",
       "    <tr>\n",
       "      <th>136</th>\n",
       "      <td>8.3</td>\n",
       "      <td>0.715</td>\n",
       "      <td>0.15</td>\n",
       "      <td>1.8</td>\n",
       "      <td>0.089</td>\n",
       "      <td>10.0</td>\n",
       "      <td>52.0</td>\n",
       "      <td>0.99680</td>\n",
       "      <td>3.23</td>\n",
       "      <td>0.77</td>\n",
       "      <td>9.5</td>\n",
       "      <td>5</td>\n",
       "    </tr>\n",
       "  </tbody>\n",
       "</table>\n",
       "</div>"
      ],
      "text/plain": [
       "     fixed acidity  volatile acidity  citric acid  residual sugar  chlorides  \\\n",
       "499            8.7             0.690         0.31             3.0      0.086   \n",
       "923            6.8             0.410         0.31             8.8      0.084   \n",
       "559           13.0             0.470         0.49             4.3      0.085   \n",
       "898            8.3             0.310         0.39             2.4      0.078   \n",
       "136            8.3             0.715         0.15             1.8      0.089   \n",
       "\n",
       "     free sulfur dioxide  total sulfur dioxide  density    pH  sulphates  \\\n",
       "499                 23.0                  81.0  1.00020  3.48       0.74   \n",
       "923                 26.0                  45.0  0.99824  3.38       0.64   \n",
       "559                  6.0                  47.0  1.00210  3.30       0.68   \n",
       "898                 17.0                  43.0  0.99444  3.31       0.77   \n",
       "136                 10.0                  52.0  0.99680  3.23       0.77   \n",
       "\n",
       "     alcohol  quality  \n",
       "499     11.6        6  \n",
       "923     10.1        6  \n",
       "559     12.7        6  \n",
       "898     12.5        7  \n",
       "136      9.5        5  "
      ]
     },
     "execution_count": 16,
     "metadata": {},
     "output_type": "execute_result"
    }
   ],
   "source": [
    "wine_df.sample(5)"
   ]
  },
  {
   "cell_type": "code",
   "execution_count": 17,
   "metadata": {},
   "outputs": [
    {
     "data": {
      "text/plain": [
       "<AxesSubplot:>"
      ]
     },
     "execution_count": 17,
     "metadata": {},
     "output_type": "execute_result"
    },
    {
     "data": {
      "image/png": "[encoded data removed]",
      "text/plain": [
       "<Figure size 432x288 with 1 Axes>"
      ]
     },
     "metadata": {
      "needs_background": "light"
     },
     "output_type": "display_data"
    }
   ],
   "source": [
    "wine_df.quality.value_counts().plot(kind=\"bar\")"
   ]
  },
  {
   "cell_type": "code",
   "execution_count": 18,
   "metadata": {},
   "outputs": [],
   "source": [
    "wine_df['quality'] = [1 if q >= 8 else 0 for q in wine_df.quality ]"
   ]
  },
  {
   "cell_type": "code",
   "execution_count": 19,
   "metadata": {},
   "outputs": [
    {
     "data": {
      "text/plain": [
       "<AxesSubplot:>"
      ]
     },
     "execution_count": 19,
     "metadata": {},
     "output_type": "execute_result"
    },
    {
     "data": {
      "image/png": "[encoded data removed]",
      "text/plain": [
       "<Figure size 432x288 with 1 Axes>"
      ]
     },
     "metadata": {
      "needs_background": "light"
     },
     "output_type": "display_data"
    }
   ],
   "source": [
    "wine_df.quality.value_counts().plot(kind=\"bar\")\n"
   ]
  },
  {
   "cell_type": "code",
   "execution_count": 20,
   "metadata": {},
   "outputs": [
    {
     "data": {
      "text/plain": [
       "0    1581\n",
       "1      18\n",
       "Name: quality, dtype: int64"
      ]
     },
     "execution_count": 20,
     "metadata": {},
     "output_type": "execute_result"
    }
   ],
   "source": [
    "wine_df.quality.value_counts()"
   ]
  },
  {
   "cell_type": "markdown",
   "metadata": {},
   "source": [
    "This is class imbalance for you!"
   ]
  },
  {
   "cell_type": "code",
   "execution_count": 21,
   "metadata": {},
   "outputs": [],
   "source": [
    "# prepare the data\n",
    "X = wine_df.drop('quality', axis =1)\n",
    "y = wine_df.quality\n"
   ]
  },
  {
   "cell_type": "code",
   "execution_count": 39,
   "metadata": {},
   "outputs": [],
   "source": [
    "from sklearn.model_selection import cross_val_predict\n",
    "\n",
    "# I should have standardised features but here I am using tiny regularisation so it should not matter\n",
    "model = LogisticRegression(C=100, solver='liblinear') \n",
    "y_pred = cross_val_predict(model, X, y, cv = 5)\n",
    "model.fit(X,y)\n",
    "y_prob = model.predict_proba(X)"
   ]
  },
  {
   "cell_type": "code",
   "execution_count": 40,
   "metadata": {},
   "outputs": [
    {
     "name": "stdout",
     "output_type": "stream",
     "text": [
      "0.9185114906177525\n"
     ]
    },
    {
     "data": {
      "text/plain": [
       "[Text(0.5, 0, 'False Positive Rate'), Text(0, 0.5, 'True Positive Rate')]"
      ]
     },
     "execution_count": 40,
     "metadata": {},
     "output_type": "execute_result"
    },
    {
     "data": {
      "image/png": "[encoded data removed]",
      "text/plain": [
       "<Figure size 432x288 with 1 Axes>"
      ]
     },
     "metadata": {
      "needs_background": "light"
     },
     "output_type": "display_data"
    }
   ],
   "source": [
    "# AUC\n",
    "y_probabilities = cross_val_predict(model, X, y, method='predict_proba', cv = 5)\n",
    "y_probabilities[:,1]\n",
    "\n",
    "fpr, tpr, thresholds = metrics.roc_curve(y.values, y_probabilities[:,1], pos_label=1)\n",
    "\n",
    "# # Custom plot function\n",
    "roc_auc = metrics.auc(fpr, tpr)\n",
    "print(roc_auc)\n",
    "\n",
    "sns.lineplot(x=fpr,y=tpr).set(xlabel=\"False Positive Rate\"\n",
    "                              , ylabel = \"True Positive Rate\")\n",
    "# # get_auc(y, y_probabilities, [\"Bad/Average Wine\", \"Great Wine\"], column=1, plot=True) # Help function\n"
   ]
  },
  {
   "cell_type": "code",
   "execution_count": 24,
   "metadata": {
    "scrolled": true
   },
   "outputs": [
    {
     "name": "stdout",
     "output_type": "stream",
     "text": [
      "Accuracy (cross-validated):  0.9868667917448405\n",
      "              precision    recall  f1-score   support\n",
      "\n",
      "           0       0.99      1.00      0.99      1581\n",
      "           1       0.00      0.00      0.00        18\n",
      "\n",
      "    accuracy                           0.99      1599\n",
      "   macro avg       0.49      0.50      0.50      1599\n",
      "weighted avg       0.98      0.99      0.98      1599\n",
      "\n"
     ]
    }
   ],
   "source": [
    "#### Accuracy\n",
    "from sklearn.metrics import accuracy_score\n",
    "\n",
    "\n",
    "print (\"Accuracy (cross-validated): \", accuracy_score(y, y_pred))\n",
    "\n",
    "####  Classification report\n",
    "from sklearn.metrics import classification_report\n",
    "\n",
    "print (classification_report(y, y_pred))"
   ]
  },
  {
   "cell_type": "markdown",
   "metadata": {},
   "source": [
    "**The operation was successful but the patient died!**"
   ]
  },
  {
   "cell_type": "markdown",
   "metadata": {},
   "source": [
    "#### Exercise\n",
    "Plot the confustion matrix to verify results. Are we predicting the 'good wines'?"
   ]
  },
  {
   "cell_type": "code",
   "execution_count": 41,
   "metadata": {},
   "outputs": [
    {
     "name": "stdout",
     "output_type": "stream",
     "text": [
      "[[1581    0]\n",
      " [  18    0]]\n"
     ]
    },
    {
     "data": {
      "text/plain": [
       "<AxesSubplot:>"
      ]
     },
     "execution_count": 41,
     "metadata": {},
     "output_type": "execute_result"
    },
    {
     "data": {
      "image/png": "[encoded data removed]",
      "text/plain": [
       "<Figure size 432x288 with 2 Axes>"
      ]
     },
     "metadata": {
      "needs_background": "light"
     },
     "output_type": "display_data"
    }
   ],
   "source": [
    "#Your code here\n",
    "cm =  confusion_matrix(y_pred=y_pred, y_true=y, labels=[0,1])\n",
    "print (cm)\n",
    "# Plotting confusion matrix \n",
    "sns.heatmap(cm,annot=True,fmt=\"d\",cmap=\"PuBu\")\n",
    "\n"
   ]
  },
  {
   "cell_type": "markdown",
   "metadata": {},
   "source": [
    "## Some approaches to class imbalance\n",
    "\n",
    "Roughly speaking there are two ways to try and do better: \n",
    "\n",
    "+ Retrospective study & bias correction: this operates at the *experimental design* stage, that is the way data are collected in the first place \n",
    "\n",
    "+ Resampling and use of synthetic data (& bias correction): this works with the data at hand"
   ]
  },
  {
   "cell_type": "markdown",
   "metadata": {},
   "source": [
    "### Retrospective studies\n",
    "\n",
    "Collect data not as a *representative* sample from the population of interest, but oversample the rare class; for example from your medical database choose a sample of $n/2$ patients with the rare disease and $n/2$ without\n",
    "\n",
    "On the basis of this *biased (non-representative)* sample train a probabilistic classifier, e.g., logistic regression \n",
    "\n",
    "The estimated learning function is biased too - it will predict way larger probability of class=1 "
   ]
  },
  {
   "cell_type": "markdown",
   "metadata": {},
   "source": [
    "There are at least two ways to do proper inference with the non-representative sample. \n",
    "\n",
    "Lets say that $q(y)$ are the probabilities of the two classes in the population of interest, i.e., $q(1), q(0)$. And $r(y)$ are the probabilities with which we have sampled \n",
    "\n",
    "+ One is to change the loss function: instead of using the log-likelihood, which is an *arithmetic average* of individual log-densities, use a *weighted average*\n",
    "\n",
    "  Some math shows that the following is a valid choice: \n",
    "  \n",
    "  $$ L(\\bb) = \\sum_i {q(y_i) \\over r(y_i)} \\left [\\log (1+e^{-f(\\bx_i,\\bb)}) + y_i f(\\bx_i,\\bb)\\right ] $$\n",
    "  \n",
    "+ Another is to run the analysis with the biased sample and the log-likelihood loss, but then rescale the estimated probabilities\n",
    "\n",
    "  Some math shows that if $\\pi(y_i)$ are the probabilities estimated by the model, they should be changed to \n",
    "  \n",
    "  $$ { \\pi(y_i) {q(y_i) \\over r(y_i)} \\over \\pi(1) {q(1) \\over r(1)} + \\pi(0) {q(0) \\over r(0)}}$$\n",
    "  \n",
    "  Lets understand what is the effect of this weighting: consider very small and very large predicted $\\pi_i$\n",
    "  \n",
    "Both approaches require that $q(y)$ is known - but this is often easy enough "
   ]
  },
  {
   "cell_type": "markdown",
   "metadata": {},
   "source": [
    "### Resampling approaches\n",
    "\n",
    "Having no control of the data collection protocol, one can try and sharpen the distinction between the two classes by either under-representing (*undersampling*) the popular class, or over-representing (*oversampling*) the rare class, or both\n",
    "\n",
    "Oversampling might just be randomly replicating rare cases or creating synthetic rare cases that \"look like\" the rare cases in the sample. To this respect doing some modelling on the $\\bx_i$s can help - and there are links to *Bayes classifiers* we mention later. For example SMOTE (Synthetic Minority Oversampling Technique) does this\n",
    "\n",
    "Any of these approaches needs to be combined with one of the bias-correction approaches developed above\n",
    "\n",
    "Some tools in `sklearn` to do this are, e.g., the module `imblearn` and its methods `.over_sampling`, e.g. `RandomOverSampler` and `SMOTE`. `imblearn` requires installing - do not do this now! Analogous result to `.over_sampling` is obtained using `LogisticRegression`  `class_weight=\"balanced\"` argument, that corresponds to oversampling\n",
    "\n",
    "In our wine prediction example we have also done some arbitrary dichotomization of the response: no good reason why we should not pay for it!!\n",
    "\n",
    "Lets try this one for the wine data:"
   ]
  },
  {
   "cell_type": "code",
   "execution_count": 28,
   "metadata": {},
   "outputs": [],
   "source": [
    "model = LogisticRegression(C=100, class_weight='balanced', solver='liblinear')\n",
    "model.fit(X,y)\n",
    "y_prob_imb = model.predict_proba(X)\n",
    "wine_df_original = wine_df\n",
    "wine_df_original[\"pred_prob\"] = y_prob[:,1] \n",
    "wine_df_original[\"pred_prob_imb\"] = y_prob_imb[:,1]"
   ]
  },
  {
   "cell_type": "markdown",
   "metadata": {},
   "source": [
    "Note that these are not proper estimates of the class probability: we need to correct for the biased sample by rescaling the predicted probability "
   ]
  },
  {
   "cell_type": "code",
   "execution_count": 29,
   "metadata": {},
   "outputs": [],
   "source": [
    "## the correction factor: \n",
    "\n",
    "q1 = y.sum()/len(y)\n",
    "r1 = 0.5\n",
    "\n",
    "def reweight(pi,q1=0.5,r1=0.5):\n",
    "    r0 = 1-r1\n",
    "    q0 = 1-q1\n",
    "    tot = pi*(q1/r1)+(1-pi)*(q0/r0)\n",
    "    w = pi*(q1/r1)\n",
    "    w /= tot\n",
    "    return w"
   ]
  },
  {
   "cell_type": "code",
   "execution_count": 30,
   "metadata": {},
   "outputs": [],
   "source": [
    "# correcting for biased sample\n",
    "\n",
    "wine_df_original[\"pred_prob_imb_corr\"] = wine_df_original[\"pred_prob_imb\"].apply(reweight,args=(q1,r1))"
   ]
  },
  {
   "cell_type": "code",
   "execution_count": 31,
   "metadata": {},
   "outputs": [
    {
     "data": {
      "text/plain": [
       "array([<AxesSubplot:title={'center':'pred_prob'}, xlabel='quality'>,\n",
       "       <AxesSubplot:title={'center':'pred_prob_imb'}, xlabel='quality'>,\n",
       "       <AxesSubplot:title={'center':'pred_prob_imb_corr'}, xlabel='quality'>],\n",
       "      dtype=object)"
      ]
     },
     "execution_count": 31,
     "metadata": {},
     "output_type": "execute_result"
    },
    {
     "data": {
      "image/png": "[encoded data removed]",
      "text/plain": [
       "<Figure size 432x288 with 3 Axes>"
      ]
     },
     "metadata": {
      "needs_background": "light"
     },
     "output_type": "display_data"
    }
   ],
   "source": [
    " \n",
    "wine_df_original.boxplot([\"pred_prob\",\"pred_prob_imb\",\"pred_prob_imb_corr\"],by=\"quality\",layout=(1,3))"
   ]
  },
  {
   "cell_type": "code",
   "execution_count": 35,
   "metadata": {},
   "outputs": [
    {
     "name": "stdout",
     "output_type": "stream",
     "text": [
      "[[1568   13]\n",
      " [  17    1]]\n"
     ]
    },
    {
     "data": {
      "text/plain": [
       "<AxesSubplot:>"
      ]
     },
     "execution_count": 35,
     "metadata": {},
     "output_type": "execute_result"
    },
    {
     "data": {
      "image/png": "[encoded data removed]",
      "text/plain": [
       "<Figure size 432x288 with 2 Axes>"
      ]
     },
     "metadata": {
      "needs_background": "light"
     },
     "output_type": "display_data"
    }
   ],
   "source": [
    "y_pred_new = [1 if pi >= 0.5 else 0 for pi in wine_df_original[\"pred_prob_imb_corr\"] ]\n",
    "\n",
    "cm =  confusion_matrix(y_pred=y_pred_new, y_true=y, labels=[0,1])\n",
    "print (cm)\n",
    "# Plotting confusion matrix \n",
    "sns.heatmap(cm,annot=True,fmt=\"d\",cmap=\"PuBu\")\n"
   ]
  },
  {
   "cell_type": "markdown",
   "metadata": {},
   "source": [
    "## Regularization\n",
    "\n",
    "Everything that applies to regression applies to logistic regression: ridge, lasso etc penalties can be used for high-dimensional feature spaces and when they are convex the resultant loss function is too and the algorithms are efficient \n",
    "\n",
    "Indeed, the `LogisticRegression` function by default includes the penalty"
   ]
  },
  {
   "cell_type": "markdown",
   "metadata": {},
   "source": [
    "## Multiclass classification\n",
    "\n",
    "Often the output variable is categorical with many options, not just two, e.g. the wine dataset. \n",
    "\n",
    "It is more convenient to encode such multiclass output using the 1-hot encoding, i.e., each output is a vector of 0s with a single 1 in the chosen class: \n",
    "\n",
    "$$\\by_i = (y_{i1},\\ldots,y_{iK})^T \\quad y_{ij} \\in \\{0,1\\}, \\quad \\sum_j y_{ij} = 1$$\n",
    "\n",
    "\n",
    "where the labels $1,2,\\ldots,K$ are arbitrary encodings for the different output categories and any sensible analysis should not depends on their values. \n",
    "\n",
    "Binary classification takes $K=2$. In fact, in modern applications $K \\sim 100$ or even $K \\sim 1000$ (e.g. *recommendation*).\n",
    "\n",
    "The most direct extension of the binary regression to multiclass is as follows. We take\n",
    "\n",
    "$$\\by_i \\sim Categorical(\\pi_{i1},\\ldots,\\pi_{iK})$$\n",
    "\n",
    "with density \n",
    "\n",
    "$$p(\\by_i) = \\prod_{j} \\pi_{ij}^{y_{ij}}$$\n",
    "\n",
    "which is a clever way to simply say that the probability that the $j$th category is chosen is $\\pi_{ij}$. "
   ]
  },
  {
   "cell_type": "markdown",
   "metadata": {},
   "source": [
    "### Multinomial-logistic regression\n",
    "\n",
    "We need to map the probabilities $\\pi_{ij}$ to the input $\\bx_i$. One way that collapses to logistic regression when $K=2$ is to take:\n",
    "\n",
    "$$\\log{\\pi_{ij} \\over \\pi_{i1}} = f(\\bx_i,\\bb_j)$$\n",
    "\n",
    "Note that implicit in this definition is that the odds to choose $j$ vs 1 do not depend on what other options there exist: this is known as the *independence of irrelevant alternatives* assumptions and is criticized in certain contexts. \n",
    "\n",
    "The model definition implies\n",
    "\n",
    "$$\\pi_{ij} = {e^{f(\\bx_i,\\bb_j)} \\over 1+ \\sum_{k>1} e^{f(\\bx_i,\\bb_k)}}$$\n",
    "\n",
    "and you should check that for $K=2$ this is precisely logistic regression. The pivot category is taken above to be 1, but any other can be chosen - this only affects the interpretation of the results. Note also that we have different parameters $\\bb_j$ for each category $j$. \n",
    "\n",
    "This model is known by a multitude of names...\n",
    "\n",
    "https://en.wikipedia.org/wiki/Multinomial_logistic_regression\n",
    "\n",
    "The negative log-likelihood is immediatelly obtained and is **convex** in the $\\bb_j$s, hence we have a nice learning problem to solve. In fact, an old clever trick can be used to turn learning this model into a Poisson GLM, this is known as the *Poisson trick* in the Stats community. This is particularly clever for large $K$ and is being reinvented (again..) by the ML community"
   ]
  },
  {
   "cell_type": "markdown",
   "metadata": {},
   "source": [
    "### Reanalyzing the wine data\n",
    "\n",
    "`LogisticRegression` in `sklearn` does in fact also fit the multinomial-logistic regression model. Lets try this out"
   ]
  },
  {
   "cell_type": "code",
   "execution_count": 50,
   "metadata": {},
   "outputs": [
    {
     "data": {
      "text/plain": [
       "LogisticRegression(C=100, max_iter=10000, multi_class='multinomial',\n",
       "                   solver='newton-cg')"
      ]
     },
     "execution_count": 50,
     "metadata": {},
     "output_type": "execute_result"
    }
   ],
   "source": [
    "# multinomial-logistic regression for wine\n",
    "model = LogisticRegression(C=100,multi_class=\"multinomial\",solver=\"newton-cg\",max_iter=10000) \n",
    "X = wine_df.drop('quality', axis =1)\n",
    "y = wine_df.quality\n",
    "model.fit(X,y)"
   ]
  },
  {
   "cell_type": "code",
   "execution_count": 51,
   "metadata": {},
   "outputs": [],
   "source": [
    "y_probabilities = cross_val_predict(model, X, y, method='predict_proba', cv = 5)"
   ]
  },
  {
   "cell_type": "code",
   "execution_count": 52,
   "metadata": {},
   "outputs": [],
   "source": [
    "def plot_confusion_matrix(cm, class_labels):\n",
    "    df_cm = pd.DataFrame(cm, index = [i for i in class_labels],\n",
    "                  columns = [i for i in class_labels])\n",
    "    sns.set(font_scale=1)\n",
    "    sns.heatmap(df_cm, annot=True, fmt='g', cmap='Blues')\n",
    "    plt.xlabel(\"Predicted label\")\n",
    "    plt.ylabel(\"Real label\")\n",
    "    plt.show()"
   ]
  },
  {
   "cell_type": "code",
   "execution_count": 55,
   "metadata": {},
   "outputs": [
    {
     "ename": "ValueError",
     "evalue": "Classification metrics can't handle a mix of binary and continuous targets",
     "output_type": "error",
     "traceback": [
      "\u001b[0;31m---------------------------------------------------------------------------\u001b[0m",
      "\u001b[0;31mValueError\u001b[0m                                Traceback (most recent call last)",
      "\u001b[0;32m<ipython-input-55-cbb7af1db964>\u001b[0m in \u001b[0;36m<module>\u001b[0;34m\u001b[0m\n\u001b[1;32m      1\u001b[0m \u001b[0my_pred\u001b[0m \u001b[0;34m=\u001b[0m \u001b[0mcross_val_predict\u001b[0m\u001b[0;34m(\u001b[0m\u001b[0mmodel\u001b[0m\u001b[0;34m,\u001b[0m \u001b[0mX\u001b[0m\u001b[0;34m,\u001b[0m \u001b[0my\u001b[0m\u001b[0;34m,\u001b[0m \u001b[0mcv\u001b[0m \u001b[0;34m=\u001b[0m \u001b[0;36m5\u001b[0m\u001b[0;34m)\u001b[0m\u001b[0;34m\u001b[0m\u001b[0;34m\u001b[0m\u001b[0m\n\u001b[0;32m----> 2\u001b[0;31m \u001b[0mcm\u001b[0m \u001b[0;34m=\u001b[0m  \u001b[0mconfusion_matrix\u001b[0m\u001b[0;34m(\u001b[0m\u001b[0my_pred\u001b[0m\u001b[0;34m=\u001b[0m\u001b[0my_probabilities\u001b[0m\u001b[0;34m[\u001b[0m\u001b[0;34m:\u001b[0m\u001b[0;34m,\u001b[0m\u001b[0;36m1\u001b[0m\u001b[0;34m]\u001b[0m\u001b[0;34m,\u001b[0m \u001b[0my_true\u001b[0m\u001b[0;34m=\u001b[0m\u001b[0my\u001b[0m\u001b[0;34m,\u001b[0m \u001b[0mlabels\u001b[0m\u001b[0;34m=\u001b[0m\u001b[0;34m[\u001b[0m\u001b[0;36m3\u001b[0m\u001b[0;34m,\u001b[0m\u001b[0;36m4\u001b[0m\u001b[0;34m,\u001b[0m\u001b[0;36m5\u001b[0m\u001b[0;34m,\u001b[0m\u001b[0;36m6\u001b[0m\u001b[0;34m,\u001b[0m\u001b[0;36m7\u001b[0m\u001b[0;34m,\u001b[0m\u001b[0;36m8\u001b[0m\u001b[0;34m]\u001b[0m\u001b[0;34m)\u001b[0m\u001b[0;34m\u001b[0m\u001b[0;34m\u001b[0m\u001b[0m\n\u001b[0m\u001b[1;32m      3\u001b[0m \u001b[0;31m# # Plotting confusion matrix (custom help function)\u001b[0m\u001b[0;34m\u001b[0m\u001b[0;34m\u001b[0m\u001b[0;34m\u001b[0m\u001b[0m\n\u001b[1;32m      4\u001b[0m \u001b[0;31m# plot_confusion_matrix(cm, [\"3\",\"4\",\"5\",\"6\",\"7\",\"8\"])\u001b[0m\u001b[0;34m\u001b[0m\u001b[0;34m\u001b[0m\u001b[0;34m\u001b[0m\u001b[0m\n\u001b[1;32m      5\u001b[0m \u001b[0mcm\u001b[0m\u001b[0;34m\u001b[0m\u001b[0;34m\u001b[0m\u001b[0m\n",
      "\u001b[0;32m~/.virtualenvs/base/lib/python3.8/site-packages/sklearn/utils/validation.py\u001b[0m in \u001b[0;36minner_f\u001b[0;34m(*args, **kwargs)\u001b[0m\n\u001b[1;32m     70\u001b[0m                           FutureWarning)\n\u001b[1;32m     71\u001b[0m         \u001b[0mkwargs\u001b[0m\u001b[0;34m.\u001b[0m\u001b[0mupdate\u001b[0m\u001b[0;34m(\u001b[0m\u001b[0;34m{\u001b[0m\u001b[0mk\u001b[0m\u001b[0;34m:\u001b[0m \u001b[0marg\u001b[0m \u001b[0;32mfor\u001b[0m \u001b[0mk\u001b[0m\u001b[0;34m,\u001b[0m \u001b[0marg\u001b[0m \u001b[0;32min\u001b[0m \u001b[0mzip\u001b[0m\u001b[0;34m(\u001b[0m\u001b[0msig\u001b[0m\u001b[0;34m.\u001b[0m\u001b[0mparameters\u001b[0m\u001b[0;34m,\u001b[0m \u001b[0margs\u001b[0m\u001b[0;34m)\u001b[0m\u001b[0;34m}\u001b[0m\u001b[0;34m)\u001b[0m\u001b[0;34m\u001b[0m\u001b[0;34m\u001b[0m\u001b[0m\n\u001b[0;32m---> 72\u001b[0;31m         \u001b[0;32mreturn\u001b[0m \u001b[0mf\u001b[0m\u001b[0;34m(\u001b[0m\u001b[0;34m**\u001b[0m\u001b[0mkwargs\u001b[0m\u001b[0;34m)\u001b[0m\u001b[0;34m\u001b[0m\u001b[0;34m\u001b[0m\u001b[0m\n\u001b[0m\u001b[1;32m     73\u001b[0m     \u001b[0;32mreturn\u001b[0m \u001b[0minner_f\u001b[0m\u001b[0;34m\u001b[0m\u001b[0;34m\u001b[0m\u001b[0m\n\u001b[1;32m     74\u001b[0m \u001b[0;34m\u001b[0m\u001b[0m\n",
      "\u001b[0;32m~/.virtualenvs/base/lib/python3.8/site-packages/sklearn/metrics/_classification.py\u001b[0m in \u001b[0;36mconfusion_matrix\u001b[0;34m(y_true, y_pred, labels, sample_weight, normalize)\u001b[0m\n\u001b[1;32m    274\u001b[0m \u001b[0;34m\u001b[0m\u001b[0m\n\u001b[1;32m    275\u001b[0m     \"\"\"\n\u001b[0;32m--> 276\u001b[0;31m     \u001b[0my_type\u001b[0m\u001b[0;34m,\u001b[0m \u001b[0my_true\u001b[0m\u001b[0;34m,\u001b[0m \u001b[0my_pred\u001b[0m \u001b[0;34m=\u001b[0m \u001b[0m_check_targets\u001b[0m\u001b[0;34m(\u001b[0m\u001b[0my_true\u001b[0m\u001b[0;34m,\u001b[0m \u001b[0my_pred\u001b[0m\u001b[0;34m)\u001b[0m\u001b[0;34m\u001b[0m\u001b[0;34m\u001b[0m\u001b[0m\n\u001b[0m\u001b[1;32m    277\u001b[0m     \u001b[0;32mif\u001b[0m \u001b[0my_type\u001b[0m \u001b[0;32mnot\u001b[0m \u001b[0;32min\u001b[0m \u001b[0;34m(\u001b[0m\u001b[0;34m\"binary\"\u001b[0m\u001b[0;34m,\u001b[0m \u001b[0;34m\"multiclass\"\u001b[0m\u001b[0;34m)\u001b[0m\u001b[0;34m:\u001b[0m\u001b[0;34m\u001b[0m\u001b[0;34m\u001b[0m\u001b[0m\n\u001b[1;32m    278\u001b[0m         \u001b[0;32mraise\u001b[0m \u001b[0mValueError\u001b[0m\u001b[0;34m(\u001b[0m\u001b[0;34m\"%s is not supported\"\u001b[0m \u001b[0;34m%\u001b[0m \u001b[0my_type\u001b[0m\u001b[0;34m)\u001b[0m\u001b[0;34m\u001b[0m\u001b[0;34m\u001b[0m\u001b[0m\n",
      "\u001b[0;32m~/.virtualenvs/base/lib/python3.8/site-packages/sklearn/metrics/_classification.py\u001b[0m in \u001b[0;36m_check_targets\u001b[0;34m(y_true, y_pred)\u001b[0m\n\u001b[1;32m     88\u001b[0m \u001b[0;34m\u001b[0m\u001b[0m\n\u001b[1;32m     89\u001b[0m     \u001b[0;32mif\u001b[0m \u001b[0mlen\u001b[0m\u001b[0;34m(\u001b[0m\u001b[0my_type\u001b[0m\u001b[0;34m)\u001b[0m \u001b[0;34m>\u001b[0m \u001b[0;36m1\u001b[0m\u001b[0;34m:\u001b[0m\u001b[0;34m\u001b[0m\u001b[0;34m\u001b[0m\u001b[0m\n\u001b[0;32m---> 90\u001b[0;31m         raise ValueError(\"Classification metrics can't handle a mix of {0} \"\n\u001b[0m\u001b[1;32m     91\u001b[0m                          \"and {1} targets\".format(type_true, type_pred))\n\u001b[1;32m     92\u001b[0m \u001b[0;34m\u001b[0m\u001b[0m\n",
      "\u001b[0;31mValueError\u001b[0m: Classification metrics can't handle a mix of binary and continuous targets"
     ]
    }
   ],
   "source": [
    "y_pred = cross_val_predict(model, X, y, cv = 5)\n",
    "cm =  confusion_matrix(y_pred=y_probabilities[:,1], y_true=y, labels=[3,4,5,6,7,8])\n",
    "# # Plotting confusion matrix (custom help function)\n",
    "# plot_confusion_matrix(cm, [\"3\",\"4\",\"5\",\"6\",\"7\",\"8\"]) \n",
    "cm"
   ]
  },
  {
   "cell_type": "markdown",
   "metadata": {},
   "source": [
    "Notice the shrinkage towards the 5!"
   ]
  },
  {
   "cell_type": "markdown",
   "metadata": {},
   "source": [
    "## Some hints for the practitioners\n",
    "\n",
    "+ Predictive modelling with categorical output can be done using `LogisticRegression`; by default this module includes regularization, hence it is straighforward to include hundreds of features\n",
    "+ When the output is multicategorical is way more sensible to build directly a model for the original output than first turn it (more or less arbitrarily) into a binary output. Even if for commercial/interpretability purposes a binary prediction is preferred, is preferrable to turn the multicategorical prediction into binary rather than the multicategorical output to binary and build a model\n",
    "+ A probabilistic classifier returns probabilities for the possible categories. It is not the data scientist's job to turn those into class predictions. This should be done in conjunction with the user of the analysis and the consideration of losses. Once the losses have been specified a simple formula gives the optimal conversion\n",
    "+ Class imbalance is an issue relevant for many or even most classification applications. Using the `class_weight=\"balanced\"` within `LogisticRegression` gives a possible improvement using oversampling - make sure to correct the probabilities it returns since they are not correct!"
   ]
  },
  {
   "cell_type": "markdown",
   "metadata": {},
   "source": [
    "## Programming project: forest cover classification\n",
    "\n",
    "In this project, you have to predict the class of forest cover (the predominant kind of tree cover) from strictly cartographic and environment variables.\n",
    "\n",
    "The actual forest cover type for a given observation (30 x 30 meter cell) was determined from US Forest Service (USFS) Region 2 Resource Information System (RIS) data. Independent variables were derived from data originally obtained from US Geological Survey (USGS) and USFS data. Data is in raw form (not scaled) and contains categorical data for qualitative independent variables (wilderness areas and soil types).\n",
    "\n",
    "You have further details on the data at *covertype.info* file and at https://archive.ics.uci.edu/ml/datasets/Covertype\n",
    "\n",
    "Be aware that the final dataset has been slighly modified from the original source data.\n",
    "\n",
    "As performance metric, you can use *AUC* in the binary classification case. For multi-class classification, check as well the confussion matrix and estimate the misclassification probabilities of different classes(check *metrics.confusion_matrix* and *metrics.classification_report* in *sklearn*).\n",
    "\n",
    "+ Using *MultiClass_Train.csv* file build a predictive model for *Cover_Type* .\n",
    "+ Try a first a binary classification to predict class #7 (Krummholz, https://en.wikipedia.org/wiki/Krummholz), which is a rare valuable habitat. After that, then try multi-variate classification to predict all classes.\n",
    "+ For this analysis there is an extra test dataset. Once your code is submitted we will run a competition to see how you score in the test data. Hence have prepared also the necessary script to compute the accuracy estimate on the test data once released.\n",
    "\n",
    "You can follow those **steps** in your first implementation:\n",
    "1. *Explore* and understand the dataset. \n",
    "2. Create *dummy variables* for relevant categorical features\n",
    "3. Reformat the Class_type variable into a binary one, being class #7 the target variable versus the others.\n",
    "4. *Build* an initial binary model for class #7 versus the other ones and test it on the same input data. Try to improve it using methods to tackle class imbalance.\n",
    "5. Assess expected accuracy using *cross-validation*\n",
    "6. Report which variable impacts more on results \n",
    "7. Repeat 4., 5., 6. now with a multi-class model\n",
    "8. Prepare the code to *run* on a new input file and be able to report accuracy, following same preparation steps (missing data, dummies, etc)\n"
   ]
  },
  {
   "cell_type": "code",
   "execution_count": null,
   "metadata": {},
   "outputs": [],
   "source": [
    "## Your code here (click on the window and type 'b' if you want to split in more than one code window)\n",
    "\n",
    "# Step 1: Read and explore data\n",
    "\n",
    "\n",
    "# Step 2: Create dummies for relevant features\n",
    "\n",
    "\n",
    "# Step 3: Reformat the data to have an binary class target (class #7 is the target to predict)\n",
    "\n",
    "\n",
    "# Step 4: Build a binary model to predict class #7 (refine considering class imbalance methods)\n",
    "\n",
    "\n",
    "# Step 5: Assess expected accuracy: AUC\n",
    "\n",
    "\n",
    "# Step 6: Report variable impact\n",
    "\n",
    "\n",
    "# Step 7: Repeat 4,5,6 with a multi-class model. \n",
    "# As metrics, besides global accuracy, include the estimation of missclassification probabilities by class\n",
    "# Report accuracies of class #7 compared to the binary model\n",
    "\n",
    "\n",
    "# Step 8: Prepare code to run and check performance of you model using a new input data with same exact format\n"
   ]
  },
  {
   "cell_type": "markdown",
   "metadata": {},
   "source": [
    "## References\n",
    "\n",
    "Hastie, T., Tibshirani, R., Friedman, J., 2009. *Elements of Statistical Learning*. 2nd Edition. Section 4.4; More advanced 3.8,3.9.  https://web.stanford.edu/~hastie/ElemStatLearn/\n",
    "\n",
    "Bishop, C.M. *Pattern recognition and machine learning*. Sections 4.2, 4.3"
   ]
  }
 ],
 "metadata": {
  "kernelspec": {
   "display_name": "Python 3",
   "language": "python",
   "name": "python3"
  },
  "language_info": {
   "codemirror_mode": {
    "name": "ipython",
    "version": 3
   },
   "file_extension": ".py",
   "mimetype": "text/x-python",
   "name": "python",
   "nbconvert_exporter": "python",
   "pygments_lexer": "ipython3",
   "version": "3.8.5"
  },
  "toc": {
   "base_numbering": 1,
   "nav_menu": {},
   "number_sections": true,
   "sideBar": true,
   "skip_h1_title": false,
   "title_cell": "Table of Contents",
   "title_sidebar": "Contents",
   "toc_cell": false,
   "toc_position": {},
   "toc_section_display": true,
   "toc_window_display": false
  }
 },
 "nbformat": 4,
 "nbformat_minor": 2
}
