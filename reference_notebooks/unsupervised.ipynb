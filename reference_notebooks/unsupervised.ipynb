{
 "cells": [
  {
   "cell_type": "markdown",
   "metadata": {
    "id": "BJZdHB0NOMMV"
   },
   "source": [
    "# An overview of unsupervised learning\n",
    "\n",
    "From a very high perspective unsupervised learning is about learning the density $p(\\bx)$ on the basis of data $\\bx_1,\\ldots, \\bx_n$. This is an overly ambitious task due to *curse of dimensionality* and often not directly addressing the reasons why we might want to employ unsupervised learning methods.\n",
    "\n",
    "A much more vague but better description of unsuperivised learning is as the pursuit of **low-dimensional structure in high-dimensional data** without supervision, i.e., without explicit examples of what the low-d structure is. \n",
    "\n",
    "Operationally, often unsupervised learning methods associate low-d *latent variables* $\\bz_i$ to each data point $\\bx_i$ thus facilitating a *latent embedding* of the high-d data on a low-d latent space. \"Structure\" is related to this low-d latent space.\n",
    "\n",
    "We will review algorithms that associate *continuous latent variables*. Such methods will allow us also to achieve dimension reduction - dim($\\bx_i$) $\\gg$ dim($\\bz_i$) - which will be key for *data vizualization*. A central component of such algorithms is the **singular value decomposition**\n",
    "\n",
    "We will also review algorithms that associate *discrete latent variables*. Effectively, such algorithms split the data in groups and often are the unsupervised counterpart of *classification*"
   ]
  },
  {
   "cell_type": "markdown",
   "metadata": {
    "id": "5RSp7v3JOMMV"
   },
   "source": [
    "## Summary\n",
    "\n",
    "In this module we understand and put to practice decomposition of data, covariance, distance and affinity matrices. A key concept is the association of latent variables to rows and/or columns of the data matrix. We cover some classic multivariate stats concepts such as principal component analysis, multidimensional scaling and distance-based clustering, but also connect to interesting machine learning concepts such as autoencoders, matrix factorization and probabilistic inference. We illustrate the methods on very diverse applications.  "
   ]
  },
  {
   "cell_type": "markdown",
   "metadata": {
    "id": "UAt_8Jf_OMMV"
   },
   "source": [
    "## Continuous latent variables\n",
    "\n",
    "###  PCA \n",
    "\n",
    "We start with an algorithm for achieving continuous latent variable embeddings, the **singular value decomposition**. This is a decomposition of a *data matrix* $\\bX$. To simplify matters we will assume that the data matrix has *centered* columns \n",
    "\n",
    "By data matrix think $n$ rows (the instances) and $p$ columns (the variables): $\\bX$ "
   ]
  },
  {
   "cell_type": "markdown",
   "metadata": {
    "id": "_EHPiHOkOMMV"
   },
   "source": [
    "#### Two synthetic examples\n",
    "In order to do a little experimentation we will generate two synthetic data matrices. \n",
    "\n",
    "**Dataset-small**: $n=100$ replications of $p=2$ variables; this is a toy dataset for understanding concepts in an elementary way. In this example we can plot the data and this is helpful - and of course not an option in real problems!\n",
    "\n",
    "**Dataset-large**: $n=100$ replications of $p=1000$ variables; this is realistic case of high-d data; we cannot plot so have to rely on real methods to extract information. \n",
    "\n",
    "The way we will simulate the data matrix is indicative of a type of low-d structure hidden in high-d data. Try to understand what the following code does"
   ]
  },
  {
   "cell_type": "code",
   "execution_count": 1,
   "metadata": {
    "executionInfo": {
     "elapsed": 952,
     "status": "ok",
     "timestamp": 1606942527479,
     "user": {
      "displayName": "Patrick Altmeyer",
      "photoUrl": "",
      "userId": "16341228965716438767"
     },
     "user_tz": -60
    },
    "id": "ScRvwjFPOMMW"
   },
   "outputs": [],
   "source": [
    "#loading relevant stuff\n",
    "import numpy as np\n",
    "import math"
   ]
  },
  {
   "cell_type": "code",
   "execution_count": 3,
   "metadata": {
    "executionInfo": {
     "elapsed": 906,
     "status": "ok",
     "timestamp": 1606942667932,
     "user": {
      "displayName": "Patrick Altmeyer",
      "photoUrl": "",
      "userId": "16341228965716438767"
     },
     "user_tz": -60
    },
    "id": "xaYHsG_uOMMW"
   },
   "outputs": [],
   "source": [
    "# dataset-small \n",
    "n = 100\n",
    "Z_small = np.random.randn(n,1)\n",
    "X1 = 2*Z_small+3\n",
    "X2 = -Z_small+2\n",
    "Xuncent = np.concatenate((X1,X2),axis=1)\n",
    "Xuncent = Xuncent + 0.1*np.random.randn(n,2)\n",
    "from sklearn.preprocessing import scale as scl\n",
    "X_small = scl(Xuncent,with_std=False)"
   ]
  },
  {
   "cell_type": "code",
   "execution_count": 7,
   "metadata": {
    "executionInfo": {
     "elapsed": 956,
     "status": "ok",
     "timestamp": 1606942743003,
     "user": {
      "displayName": "Patrick Altmeyer",
      "photoUrl": "",
      "userId": "16341228965716438767"
     },
     "user_tz": -60
    },
    "id": "-FZX8ElgOMMW"
   },
   "outputs": [],
   "source": [
    "# dataset-large\n",
    "n = 100\n",
    "p = 1000\n",
    "Z_large = np.random.randn(n,2)\n",
    "L1 = 4*np.random.rand(2,30)-2 \n",
    "X1 = np.matmul(Z_large,L1)\n",
    "X2 = np.random.randn(n,(p-30))\n",
    "Xuncent = np.concatenate((X1,X2),axis=1)\n",
    "Xuncent = Xuncent + 0.05*np.random.randn(n,p)\n",
    "from sklearn.preprocessing import scale as scl\n",
    "X_large = scl(Xuncent,with_std=False)"
   ]
  },
  {
   "cell_type": "code",
   "execution_count": 11,
   "metadata": {
    "colab": {
     "base_uri": "https://localhost:8080/",
     "height": 282
    },
    "executionInfo": {
     "elapsed": 1074,
     "status": "ok",
     "timestamp": 1606942799903,
     "user": {
      "displayName": "Patrick Altmeyer",
      "photoUrl": "",
      "userId": "16341228965716438767"
     },
     "user_tz": -60
    },
    "id": "GSdTgSolOMMX",
    "outputId": "4657f2a0-9359-47de-9d97-25ca734fe364"
   },
   "outputs": [
    {
     "data": {
      "text/plain": [
       "<matplotlib.collections.PathCollection at 0x7feacadd7630>"
      ]
     },
     "execution_count": 11,
     "metadata": {
      "tags": []
     },
     "output_type": "execute_result"
    },
    {
     "data": {
      "image/png": "[encoded data removed]",
      "text/plain": [
       "<Figure size 432x288 with 1 Axes>"
      ]
     },
     "metadata": {
      "needs_background": "light",
      "tags": []
     },
     "output_type": "display_data"
    }
   ],
   "source": [
    "# Little coding project: \n",
    "# plot the 2-d dataset\n",
    "\n",
    "from matplotlib import pyplot as plt\n",
    "plt.scatter(X_small[:,0],X_small[:,1])\n"
   ]
  },
  {
   "cell_type": "markdown",
   "metadata": {
    "id": "qz4uYEN2OMMZ"
   },
   "source": [
    "#### Fundamental question: one of coordinate systems\n",
    "\n",
    "Lets rethink the basics! what are the data? Say in the 2-d example, an observation $\\bx = (x,y)^T$ *registers* a datapoint in the Cartesian coordinate system \n",
    "\n",
    "<img src = \"../images/Rotation_of_coordinates.png\" width = \"200\">\n",
    "\n",
    "The Cartesian coordinate system might be very little appropriate for registering the data, for example in the sense that it might use more dimensions than necessary, or in the sense that this coordinate system masks lower-d structure in the data. \n",
    "\n",
    "We can consider registration of data in different coordinate systems, i.e., do a *rotation of coordinates*. Can you see a different coordinate system in the dataset-small that could be more interesting? "
   ]
  },
  {
   "cell_type": "markdown",
   "metadata": {
    "id": "VIDzj3jKOMMZ"
   },
   "source": [
    "#### SVD (Singular Value Decomposition): a data-driven choice of coordinate rotation\n",
    "\n",
    "Mathematically, it comes down to the following decomposition of the data matrix $\\bX$\n",
    "\n",
    "\n",
    "$$ \\bX = \\bU \\bD \\bV^T$$\n",
    "\n",
    "where $\\bU$ is $n \\times n$ and $\\bV$ is $p \\times p$ are **orthogonal matrices** and $\\bD$ is an $n \\times p$ diagonal matrix. The columns of $\\bU$ are called **left-singular vectors** and those of $\\bV$ **right-singular vectors**\n",
    "\n",
    "The elements of $\\bD$ are called **singular values**:\n",
    "\n",
    "$$D_{11} \\geq D_{22} \\geq \\cdots \\geq D_{pp} \\geq 0 $$\n",
    "\n",
    "All matrices are related to **eigenvalue decompositions** of column and row similarity matrices, $\\bX^T \\bX$ (column similarity) and $\\bX \\bX^T$ (row similarity)\n",
    "\n",
    "$\\bX^T \\bX = \\bV (\\bD^T \\bD) \\bV^T$ (PCA - **principal component analysis**)\n",
    "\n",
    "$\\bX \\bX^T = \\bU (\\bD \\bD^T) \\bU^T$  \n",
    "\n",
    "If we are given one of the three decompositions, we can recover the other two - they are all directly related. SVD (or PCA or the other decomposition) can be efficiently obtained in either of the two *big data* limits: large $n$ and small $p$ OR small $n$ and large $p$"
   ]
  },
  {
   "cell_type": "markdown",
   "metadata": {
    "id": "wzRTtLbNOMMZ"
   },
   "source": [
    "The columns of $V$ define *a new coordinate system*; a rotation of the original Cartesian coordinate system. The coordinates of the original data points $\\bx_i$ in this new coordinate system are \n",
    "\n",
    "$$(D_{11} U_{i,1},D_{22} U_{i,2},\\ldots,D_{pp} U_{i,p})^T$$"
   ]
  },
  {
   "cell_type": "code",
   "execution_count": 12,
   "metadata": {
    "colab": {
     "base_uri": "https://localhost:8080/"
    },
    "executionInfo": {
     "elapsed": 992,
     "status": "ok",
     "timestamp": 1606942960711,
     "user": {
      "displayName": "Patrick Altmeyer",
      "photoUrl": "",
      "userId": "16341228965716438767"
     },
     "user_tz": -60
    },
    "id": "4C6IO_nVOMMZ",
    "outputId": "7970176b-ad41-4695-e714-40c0d2a34230"
   },
   "outputs": [
    {
     "name": "stdout",
     "output_type": "stream",
     "text": [
      "[[ 0.89528335  0.44549717]\n",
      " [-0.44549717  0.89528335]]\n",
      "[23.88021623  1.03307978]\n"
     ]
    }
   ],
   "source": [
    "# SVD for the small synthetic example \n",
    "Us, Ds, Vt = np.linalg.svd(X_small) #s for small, t for transpose!\n",
    "Vs = Vt.transpose()\n",
    "# print the new coordinate vectors:\n",
    "print(Vs)\n",
    "print(Ds)"
   ]
  },
  {
   "cell_type": "code",
   "execution_count": null,
   "metadata": {
    "id": "mHAL3a4xOMMZ",
    "outputId": "22750d28-ed86-4c30-f0e9-037c286f4be9"
   },
   "outputs": [
    {
     "data": {
      "image/png": "[encoded data removed]",
      "text/plain": [
       "<Figure size 432x288 with 1 Axes>"
      ]
     },
     "metadata": {
      "needs_background": "light",
      "tags": []
     },
     "output_type": "display_data"
    }
   ],
   "source": [
    "# Lets plot the 2-d data and superimpose the new axes:\n",
    "fig = plt.figure()\n",
    "plt.scatter(X_small[:,0],X_small[:,1],)\n",
    "xx = np.linspace(-5,5,10)\n",
    "beta1 = Vs[1,0]/Vs[0,0]\n",
    "beta2 = Vs[1,1]/Vs[0,1]\n",
    "plt.plot(xx,beta1*xx,\"r\")#the 1st axis (largest singular value)\n",
    "plt.plot(xx,beta2*xx,\"g\")#the 2nd axis (second largest singular value)\n",
    "plt.plot(X_small[15,0],X_small[15,1],\"k*\")#highlighting a point\n",
    "plt.plot(X_small[35,0],X_small[35,1],\"y*\")#highlighting a point\n",
    "plt.ylim(-4,4)\n",
    "plt.show()"
   ]
  },
  {
   "cell_type": "markdown",
   "metadata": {
    "id": "QZQ6GpQ5OMMZ"
   },
   "source": [
    "The red line is **not** a regression line! It is the axis identified by the data itself. "
   ]
  },
  {
   "cell_type": "code",
   "execution_count": null,
   "metadata": {
    "id": "Pk_AFfyDOMMa",
    "outputId": "7dfab44c-d890-44fc-9bd0-1aceb514e6bb"
   },
   "outputs": [
    {
     "data": {
      "text/plain": [
       "[<matplotlib.lines.Line2D at 0x20d5a852608>]"
      ]
     },
     "execution_count": 7,
     "metadata": {
      "tags": []
     },
     "output_type": "execute_result"
    },
    {
     "data": {
      "image/png": "[encoded data removed]",
      "text/plain": [
       "<Figure size 432x288 with 1 Axes>"
      ]
     },
     "metadata": {
      "needs_background": "light",
      "tags": []
     },
     "output_type": "display_data"
    }
   ],
   "source": [
    "# SVD for the large synthetic example \n",
    "Ul, Dl, Vt = np.linalg.svd(X_large)\n",
    "Vl = Vt.transpose()\n",
    "# print the new coordinate vectors:\n",
    "plt.plot(Dl)"
   ]
  },
  {
   "cell_type": "markdown",
   "metadata": {
    "id": "qbcBBBdJOMMa"
   },
   "source": [
    "#### Dimension reduction  - compression - encoding\n",
    "\n",
    "Consider the dataset-small toy example. If we register the data in the new data-chosen coordinate system, the 2nd axis \"adds very little to tell the data apart\", their essential differences are captured by their coordinates in the first axis. \n",
    "\n",
    "Therefore, if we wanted to reduce their dimension from 2 to 1, we could represent each data point $i$ by their value on the first axis, i.e., associate a **latent coordinate** \n",
    "\n",
    "$$z_i = D_{11} U_{i,1}$$ \n",
    "\n",
    "Lets do precisely this for the dataset-small (be prepared that signs might be different from what you imagine, but internally consistent!)"
   ]
  },
  {
   "cell_type": "code",
   "execution_count": null,
   "metadata": {
    "id": "eG0rXFHeOMMa",
    "outputId": "b2cdafe5-6de0-49c5-e91a-510de6528b13"
   },
   "outputs": [
    {
     "data": {
      "image/png": "[encoded data removed]",
      "text/plain": [
       "<Figure size 432x288 with 1 Axes>"
      ]
     },
     "metadata": {
      "needs_background": "light",
      "tags": []
     },
     "output_type": "display_data"
    }
   ],
   "source": [
    "fig = plt.figure()\n",
    "plt.plot(Ds[0]*Us[:,0],np.zeros(n),\"o\")\n",
    "plt.plot(Ds[0]*Us[15,0],0,\"k*\")#highlighting a point\n",
    "plt.plot(Ds[0]*Us[35,0],0,\"y*\")#highlighting a point\n",
    "plt.vlines(0,-0.02,0.02)\n",
    "plt.show()"
   ]
  },
  {
   "cell_type": "markdown",
   "metadata": {
    "id": "zOQdNsaCOMMb"
   },
   "source": [
    "More generally, for $p$-dimensional data, we can associate a **low-dimensional latent coordinate** $\\bz_i$ of dimension $r<p$ to the $i$th data point $\\bx_i$, as:\n",
    "\n",
    "$$\\bz_i^T = \\bU_{i,1:r} \\bD_{1:r,1:r}$$\n",
    "\n",
    "These are the $i$th data point's coordinates in the data-chosen coordinate system defined by the first $r$ right-singular vectors. I can now work with the latent coordinates instead and form the **reduced-dimension** dataset \n",
    "\n",
    "$$\\underbrace{\\bZ}_{n \\times r} = \\left (\\begin{array}{c} \\bz_1^T \\\\ \\bz_2^T \\\\ \\cdots \\\\\\bz_n^T\\end{array} \\right)$$\n",
    "\n",
    "Basic linear algebra shows that precisely: \n",
    "\n",
    "$$\\underbrace{\\bZ}_{n \\times r} = \\underbrace{\\bU_{\\cdot,1:r}}_{n \\times r} \\underbrace{\\bD_{1:r,1:r}}_{r \\times r}$$\n",
    "\n",
    "$r$ is the dimension of the **latent space**\n",
    "\n",
    "We can think of the mapping $\\bX \\rightarrow \\bZ$ as **compression** - or alternatively (a point of view we will revisit) as **encoding**.  \n"
   ]
  },
  {
   "cell_type": "markdown",
   "metadata": {
    "id": "p4SoS7ILOMMb"
   },
   "source": [
    "In this example, the data have actually been generated by a low-d signal! Lets see to what extent the extracted latent variables look like the ones we used in our synthetic example. "
   ]
  },
  {
   "cell_type": "code",
   "execution_count": null,
   "metadata": {
    "id": "XtO6y3A7OMMb",
    "outputId": "ba48925d-0381-4c40-bbf6-2008d87d919b"
   },
   "outputs": [
    {
     "data": {
      "text/plain": [
       "<matplotlib.collections.PathCollection at 0x20d5b0f4888>"
      ]
     },
     "execution_count": 9,
     "metadata": {
      "tags": []
     },
     "output_type": "execute_result"
    },
    {
     "data": {
      "image/png": "[encoded data removed]",
      "text/plain": [
       "<Figure size 432x288 with 1 Axes>"
      ]
     },
     "metadata": {
      "needs_background": "light",
      "tags": []
     },
     "output_type": "display_data"
    }
   ],
   "source": [
    "# Little coding project: \n",
    "# plot the latent variables vs the signal variable \n",
    "# in the dataset-small example\n",
    "\n",
    "plt.scatter(Ds[0]*Us[:,0],Z_small)"
   ]
  },
  {
   "cell_type": "markdown",
   "metadata": {
    "id": "NU5g2jASOMMb"
   },
   "source": [
    "Lets first exctract these quantities for our synthetic data and plot them, for $r=2$. We take advantage of the fact that we have synthetic data and compare the extracted latent variables with the 2-d vectors that were used to simulate the data"
   ]
  },
  {
   "cell_type": "markdown",
   "metadata": {
    "id": "2JuCUH4qOMMb"
   },
   "source": [
    "#### Exercise\n",
    "Extract latent variables and form the latent variable data matrix Z for the dataset-large with r=2.\n",
    "Plot the latent variables vs the signal variables \n",
    "It is convenient to turn matrices into dataframe, and plot in pairs (use *sns.pairplot()* )to create simultaneously the plot of the two extracted latent vectors vs the two signal variables.\n",
    "\n",
    "WARNING: this is mainly a little project on graphs and less on SVD!"
   ]
  },
  {
   "cell_type": "code",
   "execution_count": 13,
   "metadata": {
    "executionInfo": {
     "elapsed": 868,
     "status": "ok",
     "timestamp": 1606943456564,
     "user": {
      "displayName": "Patrick Altmeyer",
      "photoUrl": "",
      "userId": "16341228965716438767"
     },
     "user_tz": -60
    },
    "id": "JJ-LRN7SOMMb"
   },
   "outputs": [],
   "source": [
    "# Your code here \n",
    "# Use np.matmul() for matrix multiplication."
   ]
  },
  {
   "cell_type": "markdown",
   "metadata": {
    "id": "g0bHl1kfOMMb"
   },
   "source": [
    "#### Decompression - decoding\n",
    "\n",
    "We can try to reconstruct the original data matric $\\bX$, which means try to represent each data point on the original system. This is simply done by multiplying the latent coordinates with the axes that define the new system, i.e., we simply take: \n",
    "\n",
    "$$\\btX = \\bZ \\,\\, (\\bV_{\\cdot,1:r})^T = \\bU_{\\cdot,1:r} \\bD_{1:r,1:r} (\\bV_{\\cdot,1:r})^T$$\n",
    "\n",
    "In particular, each reconstructed data point is: \n",
    "\n",
    "$$\\widetilde{\\bx}_i = \\bV_{\\cdot,1:r} \\, \\bz_i$$\n",
    "\n",
    "Notice that when $r=p$ we obtain a perfect reconstruction, $\\btX = \\bX$"
   ]
  },
  {
   "cell_type": "code",
   "execution_count": null,
   "metadata": {
    "id": "YZAEkHxYOMMb",
    "outputId": "187efa78-44c6-4b15-ca07-6f0c2e239920"
   },
   "outputs": [
    {
     "data": {
      "image/png": "[encoded data removed]",
      "text/plain": [
       "<Figure size 432x288 with 1 Axes>"
      ]
     },
     "metadata": {
      "needs_background": "light",
      "tags": []
     },
     "output_type": "display_data"
    }
   ],
   "source": [
    "# Lets do the reconstruction for the dataset-small\n",
    "tX_small = np.matmul(np.reshape(Ds[0]*Us[:,0],(n,1)),np.reshape(Vs[:,0],(1,2)))\n",
    "plt.figure()\n",
    "plt.scatter(X_small[:,0],X_small[:,1])\n",
    "plt.scatter(tX_small[:,0],tX_small[:,1],c=\"y\")\n",
    "plt.plot(X_small[15,0],X_small[15,1],\"k*\")#highlighting a point\n",
    "plt.plot(X_small[35,0],X_small[35,1],\"k*\")#highlighting a point\n",
    "plt.plot(tX_small[15,0],tX_small[15,1],\"r*\")#highlighting a point\n",
    "plt.plot(tX_small[35,0],tX_small[35,1],\"r*\")#highlighting a point\n",
    "plt.show()"
   ]
  },
  {
   "cell_type": "markdown",
   "metadata": {
    "id": "ZkzHOSuPOMMb"
   },
   "source": [
    "We can think of the mapping $\\bZ \\rightarrow \\btX$ as **decompression** or **decoding**\n",
    "\n",
    "A little linear algebra shows that what we have done so far is: \n",
    "+ Encode: $\\bX \\rightarrow \\bX \\,\\bV_{\\cdot,1:r} = \\bZ$\n",
    "+ Decode: $\\bZ \\rightarrow \\bZ  (\\bV_{\\cdot,1:r})^T = \\btX$ "
   ]
  },
  {
   "cell_type": "markdown",
   "metadata": {
    "id": "YgiTv1WBOMMb"
   },
   "source": [
    "#### Principle components, factors and all that jazz!\n",
    "\n",
    "The terminology I prefer here is $\\bz_i$ as latent variables - or latent coordinates, in the sense of being the coordinates of original data in a latent space. \n",
    "\n",
    "However, you will find an abundance of terminology, this might help to put into perspective:\n",
    "\n",
    " + $\\bz_i$ are also called factors, or latent factors, but sometimes (confusingly) also principal components\n",
    " + $\\bV_{\\cdot,1:r}$ is called the loadings matrix - it shows how original variables load on the factors  due to $\\widetilde{\\bx}_i = \\bV_{\\cdot,1:r} \\, \\bz_i$"
   ]
  },
  {
   "cell_type": "markdown",
   "metadata": {
    "id": "7yS8Cek2OMMb"
   },
   "source": [
    "#### Some optimality properties\n",
    "\n",
    "+ **Explained variance**: The first $r$ columns of $\\bV$ are orthogonal vectors in $p$-dim space. The first column is the direction along which the *data vary maximally*, the second is the direction of maximal variance orthogonal to the first, etc. For each data point $\\bx_i$, the associated latent variables $\\bz_i$, are the coordinates in this new system. To get an indication of this we plot the variance of the latent factors vs their index"
   ]
  },
  {
   "cell_type": "code",
   "execution_count": null,
   "metadata": {
    "id": "abVMDtbDOMMc",
    "outputId": "15f9b315-9e30-4bd8-e28f-373ec4e767ea"
   },
   "outputs": [
    {
     "data": {
      "text/plain": [
       "<matplotlib.axes._subplots.AxesSubplot at 0x20d5fb7cc08>"
      ]
     },
     "execution_count": 12,
     "metadata": {
      "tags": []
     },
     "output_type": "execute_result"
    },
    {
     "data": {
      "image/png": "[encoded data removed]",
      "text/plain": [
       "<Figure size 432x288 with 1 Axes>"
      ]
     },
     "metadata": {
      "needs_background": "light",
      "tags": []
     },
     "output_type": "display_data"
    }
   ],
   "source": [
    "Zlext_more = np.matmul(Ul[:,0:10],np.diag(Dl[0:10]))\n",
    "df = pd.DataFrame(Zlext_more)\n",
    "df.var().plot()"
   ]
  },
  {
   "cell_type": "markdown",
   "metadata": {
    "id": "A4HqDaXpOMMc"
   },
   "source": [
    "+ **Optimal low-rank approximation** Some (feasible!) math shows that \n",
    "$$\\|\\bX - \\btX\\| \\leq \\|\\bX - \\bB\\|$$ among all rank-$r$ matrices $\\bB$, both in terms of the Frobenius and the spectral norm. Lets look at how this error decays with $r$ for our synthetic example: "
   ]
  },
  {
   "cell_type": "code",
   "execution_count": null,
   "metadata": {
    "id": "NYjAcmiOOMMc",
    "outputId": "50bea418-e18f-4abb-d21f-0341b893f39e"
   },
   "outputs": [
    {
     "data": {
      "text/plain": [
       "[<matplotlib.lines.Line2D at 0x20d5f3c4688>]"
      ]
     },
     "execution_count": 13,
     "metadata": {
      "tags": []
     },
     "output_type": "execute_result"
    },
    {
     "data": {
      "image/png": "[encoded data removed]",
      "text/plain": [
       "<Figure size 432x288 with 1 Axes>"
      ]
     },
     "metadata": {
      "needs_background": "light",
      "tags": []
     },
     "output_type": "display_data"
    }
   ],
   "source": [
    "rmax = 31\n",
    "errors = np.zeros(rmax-1)\n",
    "r = range(1,rmax)\n",
    "for i in r:\n",
    "    Zext_temp = np.matmul(Ul[:,0:i],np.diag(Dl[0:i]))\n",
    "    Xapprox = np.matmul(Zext_temp,np.transpose(Vl[:,0:i]))\n",
    "    resid = X_large-Xapprox\n",
    "    residsq = np.matmul(resid.transpose(),resid)\n",
    "    errors[i-1] = residsq.trace()\n",
    "plt.plot(r,errors)"
   ]
  },
  {
   "cell_type": "markdown",
   "metadata": {
    "id": "20rVs0qUOMMc"
   },
   "source": [
    "#### SVD/PCA as a linear autonencoder\n",
    "\n",
    "We can relate the method we have been studying to one of the most fundamental **neural networks**, the autoencoder\n",
    "\n",
    "<img src = \"../images/autoencoder.png\" width = \"400\">\n",
    "\n",
    "Some math shows that the following optimization problem, that involves finding an encoding and decoding matrices: \n",
    "\n",
    "$$\\min \\|\\bA \\bX \\bB - \\bX\\|$$ \n",
    "\n",
    "is precisely solved by PCA "
   ]
  },
  {
   "cell_type": "markdown",
   "metadata": {
    "id": "6TSM6MjJOMMc"
   },
   "source": [
    "#### Probabilistic PCA \n",
    "\n",
    "This is a statistical model - not an algorithm - for unsupervised learning that involves latent variables: \n",
    "\n",
    "$$\\underbrace{\\bx_i}_{p \\times 1} \\sim \\Gau(\\underbrace{\\bW}_{p \\times r} \\,\\, \\underbrace{\\bz_i}_{r \\times 1}, v\\bI) \\quad \\bz_i \\sim \\Gau(\\bO,\\bI)$$\n",
    "\n",
    "It is known that the **maximum likelihood estimator (MLE)** of $\\bW$ can be obtained via the SVD, hence PCA can be seen as an algorithm that returns the MLE of a specific statistical model. This connection leads to a few important possibilities:\n",
    " + Understand better how to interpret the output and implicit assumptions in PCA\n",
    " + Extend the model in various ways (we will discuss a few important ones) \n",
    " + Obtain the MLE using alternative methods to SVD, e.g. the **EM algorithm**. This works both ways: we can do SVD using the EM, and this can be very interesting for certain big data applications. Also learn $r$ using a variety of statistical tools\n",
    " \n",
    " Note that pPCA is a linear regression model for $\\bW$ for given latent factors $\\bz_i$, and a linear regression model for $\\bz_i$ for given $\\bW$"
   ]
  },
  {
   "cell_type": "markdown",
   "metadata": {
    "id": "NBp8wiDHOMMc"
   },
   "source": [
    "#### Factor analysis\n",
    "\n",
    "\n",
    "$$\\bx_i \\sim \\Gau(\\bmu + \\bW \\bz_i, diag(\\bv)) \\quad \\bz_i \\sim \\Gau(\\bO,\\bI)$$\n",
    "\n",
    "This is one of the natural extensions of pPCA to allow heteroscedasticity - and this is important in practice, especially when highly volatile variables are uncorrelated with the rest\n",
    "\n",
    "#### Independent component analysis\n",
    "\n",
    "$$\\bx_i \\sim \\Gau(\\bmu + \\bW \\bz_i, diag(\\bv)) \\quad \\bz_i \\sim \\textrm{non-Gaussian distribution}$$\n",
    "\n",
    "typically non-Gaussian is a *mixture of Gaussians* (a concept we will return to in *discrete latent variables*)\n",
    "\n",
    "This is the method of choice for many areas of Science for basic unsupervised learning. Also has strong links to a current theme in Machine Learning, **variational autoencoders** and **disentangled representations**"
   ]
  },
  {
   "cell_type": "markdown",
   "metadata": {
    "id": "ivVkhaFNOMMc"
   },
   "source": [
    "#### Applications/motivations for the above framework to unsupervised learning, and some terminology\n",
    "\n",
    "\n",
    "Applications/uses:\n",
    " + Explain correlations between many variables in terms of few common factors\n",
    " + Realistic estimation of large covariance matrices when $p$ is large (low-rank assumption)\n",
    " + Deconvolution: the observed data $\\bx_i$ is a convolution of signals $\\bz_i$ (<a href='https://en.wikipedia.org/wiki/Cocktail_party_effect'>cocktail party problem </a> - typically using independent component analysis)\n",
    " + Psychometrics: $\\bz_i$ are latent skills, $\\bx_i$ are tests; in this case $\\bW$ shows what skills each test relates to \n",
    " + Image analysis: $\\bx_i$ are pixelized images, $\\bW$ are image features and $\\bz_i$ shows how each image is composed by these features\n",
    " \n"
   ]
  },
  {
   "cell_type": "markdown",
   "metadata": {
    "id": "mdjRvM1UOMMd"
   },
   "source": [
    "#### An example: pattern recognition\n",
    "\n",
    "This and the figures are taken from the Tibshirani et al. book Elements of Statistical Learning (Chapter 14)\n",
    "\n",
    "$\\bX$ is a matrix of hand-written digits, of size $658\\times 256$, a subset of which is shown here (note the convenient visuzalization of this high-d dataset exploiting the spatial nature of the data)\n",
    "\n",
    " <img src=\"../images/MNIST1.png\" width=\"600\">\n",
    " \n",
    "Notice the **variation** in the data due to a number of **components**: thickness, orientation, vertical elongation, horizontal elongation, caligraphy, etc\n",
    "\n",
    "We run PCA with $r=2$. The following figure plots the factors $\\bz_i$ for each of 658 data points, and highlights the data points close to certain quantiles of the empirical distribution of each factor. What aspects of the hand-written variation does each of the latent variables corresponds to? How could you verify that your intuition is right? What further visualization could you try here? \n",
    "\n",
    " <img src=\"../images/MNIST2.png\" width=\"600\">\n",
    "\n",
    "In such application PCA can be used both for **data compression**, since for each image a relative small number of latent variables might be able to provide satisfactory reconstruction, and for **understanding the sources of variation** and their relative importance"
   ]
  },
  {
   "cell_type": "markdown",
   "metadata": {
    "id": "5-QsIg6KOMMd"
   },
   "source": [
    "### Matrix factorization\n",
    "\n",
    "Here is a more creative way to think what we have been doing so far. We have worked with data matrices $\\bX$ which we think of individuals vs variables. Lets have a few more concrete cases of $\\bX$ to build a better intuition, e.g.\n",
    "  + customers - products in online retailer ($X_{ij}$ is a rating)\n",
    "  + people - photos ($X_{ij}$ is $j$-th pixel intensity)\n",
    "  + documents - terms ($X_{ij}$ is the number of times $j$th term is used)\n",
    "  \n",
    "One of interpretations of what we achieved with PCA is to approximate $\\bX$ by a matrix product, $\\bZ \\bW^T$ where the rows of $\\bZ$ are $r$-dim latent variables associated to each $i$; the rows of $\\bW$ are also $r$-dim and we have one for each $j$; lets denote those by $\\bw_j$; we can also think of those as continuous latent variables associated with the columns of the data matrix $\\bX$\n",
    "\n",
    "Hence, from this perspective we have **embedded on a latent space** the customers/documents/people AND the products/terms/photos and explain $X_{ij}$ by a measure of **affinity** between the corresponding latent variables:\n",
    "\n",
    "$$X_{ij}  \\sim g(\\bz_i,\\bw_j)$$\n",
    "\n",
    "The measure we used in PCA and related approaches relates to the covariance of the latent vectors, $\\bz_i^T \\bw_j$ \n",
    "\n",
    "In the context of **text mining** this approach is known as **latent semantic analysis**\n",
    "\n",
    "One variant of this idea is **non-negative matrix factorization** where $\\bx_i,\\bz_i,\\bw_j$ are non-negative. This is typically formulated as \n",
    "\n",
    "$$X_{ij} \\sim Poisson(e^{\\bz_i^T \\bw_j})$$ \n",
    "\n",
    "and estimation of $\\bZ,\\bW$ by exploiting the bilinear nature of the objective function and algorithms for maximizing *generalized linear model* likelihoods\n",
    "\n",
    " <img src=\"../images/NMF.png\" width=\"800\">\n",
    " \n"
   ]
  },
  {
   "cell_type": "markdown",
   "metadata": {
    "id": "tt8yjTupOMMd"
   },
   "source": [
    "### Multidimensional scaling (MDS)\n",
    "\n",
    "This is an approach to latent low-d embeddings of high-d data that associates latent variables to the rows of the data matrix $\\bX$. The aim here is that the distances $d(\\bx_i,\\bx_j)$ among the high-d data are preserved to good extent in the latent embedding, i.e., $$d(\\bx_i,\\bx_j) \\approx d(\\bz_i,\\bz_j)$$ for $d(\\cdot,\\dot)$ a metric. This technique is an important tool in **data visualization** hence typically the latent dimension is taken to be $r=2$ or $r=3$.\n",
    "\n",
    "\n",
    "\n",
    "#### Classical scaling\n",
    "\n",
    "Classical MDS is the solution to the following optimization problem: find latent embeddings $\\bz_i$ such that the sample covariances among original data points are as close as possible to those among latent points, i.e., \n",
    "\n",
    "$$\\min_{\\{\\bz_i\\}} \\sum_{i,j} \\left( (\\bx_i - \\bxbar)^T(\\bx_j - \\bxbar) - (\\bz_i - \\bzbar)^T(\\bz_j - \\bzbar) \\right)^2 $$\n",
    "\n",
    "It might not be immediatelly obvious but little math (analogous to that for optimality of PCA) can reveal that:\n",
    "  + This problem is equivalent to \n",
    "  $$\\min_{\\{\\bz_i\\}} \\sum_{i,j} \\left( \\|\\bx_i - \\bx_j\\|^2 - \\|\\bz_i - \\bz_j\\|^2\\right)^2 $$\n",
    "  for $\\|\\cdot\\|$ the Euclidean metric\n",
    "  + This problem is equivalent to PCA. We need to obtain the SVD of the centered data matrix $\\bX$, and then take $\\bZ = \\bU \\bD_r$  - but it is not needed to obtain the $\\bW$ matrix in this case. The connection is established by noting that the objective function based on covariances is effectively a Frobenius norm. This is in accordance with our earlier observation that MDS only embeds the rows of the data matrix. The problem admits a unique solution.\n",
    "  \n",
    "#### MDS\n",
    "\n",
    "Is defined as the solution to the optimization problem\n",
    "\n",
    "$$\\min_{\\{\\bz_i\\}} \\sum_{i,j} \\left( d(\\bx_i , \\bx_j) - d(\\bz_i ,\\bz_j)\\right)^2 $$\n",
    "\n",
    "Note that with the Euclidean distance $d(\\bx_i,\\bx_j) = \\|\\bx_i - \\bx_j\\|$ we obtain something that looks like classical scaling, but with the important difference that the latter uses squared distances. MDS with this metric does not admit an explicit solution. Generally, gradient descent is used to find local minimum. \n",
    "\n",
    "The metric should be used according to the application and data at hand; can you think reasons NOT to use the Euclidean?\n"
   ]
  },
  {
   "cell_type": "markdown",
   "metadata": {
    "id": "gIMV4UcmOMMd"
   },
   "source": [
    "#### Exercise:  A small project on classical scaling\n",
    "\n",
    "The following toy dataset is taken by Greenacre, \"Biplots in practice\". It is stored as a CSV file in countries_pref.csv - but the essense of this data goes back long way, e.g. Kaufman and Rousseeuw (1990)\n",
    "\n",
    "The data matrix contains in fact ordinal data (not continuous - but we will ignore this), rankings from 1 to 9 on different aspects of a country provided by a student according to their perceptions. Specifically: \n",
    "\n",
    "`\n",
    "standard of living\n",
    "(1 = low,...,9 = high);\n",
    "climate (1 = terrible,...,\n",
    "9 = excellent); food\n",
    "(1 = awful,...,\n",
    "9 = delicious); security\n",
    "(1 = dangerous,...,\n",
    "9 = safe); hospitality\n",
    "(1 = friendly,...,\n",
    "9 = unfriendly);\n",
    "infrastructure\n",
    "(1 = poor,...,9 =\n",
    "excellent)\n",
    "`\n",
    "\n",
    "Use classical scaling to embed the countries in 2-d space and create a plot that shows each country as a point - make sure that the plot makes it easy to know which country each point refers to. The small difficulty in this little project is to get the visualization to work!"
   ]
  },
  {
   "cell_type": "code",
   "execution_count": null,
   "metadata": {
    "id": "7HOBrSUFOMMd",
    "outputId": "1e3ea9f6-0f0d-4c49-ef5f-f3b7505279a1"
   },
   "outputs": [
    {
     "data": {
      "text/html": [
       "<div>\n",
       "<style scoped>\n",
       "    .dataframe tbody tr th:only-of-type {\n",
       "        vertical-align: middle;\n",
       "    }\n",
       "\n",
       "    .dataframe tbody tr th {\n",
       "        vertical-align: top;\n",
       "    }\n",
       "\n",
       "    .dataframe thead th {\n",
       "        text-align: right;\n",
       "    }\n",
       "</style>\n",
       "<table border=\"1\" class=\"dataframe\">\n",
       "  <thead>\n",
       "    <tr style=\"text-align: right;\">\n",
       "      <th></th>\n",
       "      <th>COUNTRIES</th>\n",
       "      <th>living</th>\n",
       "      <th>climate</th>\n",
       "      <th>food</th>\n",
       "      <th>security</th>\n",
       "      <th>hospitality</th>\n",
       "      <th>infrastructure</th>\n",
       "    </tr>\n",
       "  </thead>\n",
       "  <tbody>\n",
       "    <tr>\n",
       "      <td>0</td>\n",
       "      <td>Italy</td>\n",
       "      <td>7</td>\n",
       "      <td>8</td>\n",
       "      <td>9</td>\n",
       "      <td>5</td>\n",
       "      <td>3</td>\n",
       "      <td>7</td>\n",
       "    </tr>\n",
       "    <tr>\n",
       "      <td>1</td>\n",
       "      <td>Spain</td>\n",
       "      <td>7</td>\n",
       "      <td>9</td>\n",
       "      <td>9</td>\n",
       "      <td>5</td>\n",
       "      <td>2</td>\n",
       "      <td>8</td>\n",
       "    </tr>\n",
       "    <tr>\n",
       "      <td>2</td>\n",
       "      <td>Croatia</td>\n",
       "      <td>5</td>\n",
       "      <td>6</td>\n",
       "      <td>6</td>\n",
       "      <td>6</td>\n",
       "      <td>5</td>\n",
       "      <td>6</td>\n",
       "    </tr>\n",
       "    <tr>\n",
       "      <td>3</td>\n",
       "      <td>Brazil</td>\n",
       "      <td>5</td>\n",
       "      <td>8</td>\n",
       "      <td>7</td>\n",
       "      <td>3</td>\n",
       "      <td>2</td>\n",
       "      <td>3</td>\n",
       "    </tr>\n",
       "    <tr>\n",
       "      <td>4</td>\n",
       "      <td>Russia</td>\n",
       "      <td>6</td>\n",
       "      <td>2</td>\n",
       "      <td>2</td>\n",
       "      <td>3</td>\n",
       "      <td>7</td>\n",
       "      <td>6</td>\n",
       "    </tr>\n",
       "  </tbody>\n",
       "</table>\n",
       "</div>"
      ],
      "text/plain": [
       "  COUNTRIES  living  climate  food  security  hospitality  infrastructure\n",
       "0     Italy       7        8     9         5            3               7\n",
       "1     Spain       7        9     9         5            2               8\n",
       "2   Croatia       5        6     6         6            5               6\n",
       "3    Brazil       5        8     7         3            2               3\n",
       "4    Russia       6        2     2         3            7               6"
      ]
     },
     "execution_count": 14,
     "metadata": {
      "tags": []
     },
     "output_type": "execute_result"
    }
   ],
   "source": [
    "\n",
    "df = pd.read_csv(\"../../Data/countries_pref.csv\")\n",
    "df.head()"
   ]
  },
  {
   "cell_type": "code",
   "execution_count": null,
   "metadata": {
    "id": "0xwdSmG5OMMd"
   },
   "outputs": [],
   "source": [
    "#Your code here\n",
    "# Hint: scale using scl(), decompose using np.linalg.svd()\n",
    "\n"
   ]
  },
  {
   "cell_type": "markdown",
   "metadata": {
    "id": "pb1mdms2OMMd"
   },
   "source": [
    "## Discrete latent variables\n",
    "\n",
    "In this part of the lecture we will develop algorithms and models for assigning discrete latent variables $\\bz_i$ to each data point $\\bx_i$. Many of the ideas in this lecture evolve around the notion of **clustering**\n",
    "\n",
    "We will use the 1-hot encoding for the **categorical latent variables**, i.e., \n",
    "\n",
    "$$\\bz_i = (z_{i1},\\ldots,z_{iK})^T \\quad z_{ij} \\geq 0 \\quad \\sum_j z_{ij}=1$$\n",
    "\n",
    "where $K$ is the dimension of the latent space"
   ]
  },
  {
   "cell_type": "markdown",
   "metadata": {
    "id": "vb8tvQ3TOMMd"
   },
   "source": [
    "### Two synthetic datasets\n",
    "\n",
    "In order to understand the type of discrete latent structures we might be interested to recover we simulate two datasets. \n",
    "\n",
    "Try to understand what the following code does in terms of what is the underlying stochastic mechanism generating the data. We then plot each of those; we will call the first \"patches\" and the second \"circles\""
   ]
  },
  {
   "cell_type": "code",
   "execution_count": null,
   "metadata": {
    "id": "JnMmz6JkOMMe"
   },
   "outputs": [],
   "source": [
    "# The patches dataset\n",
    "n1 = 50\n",
    "n2 = 60\n",
    "mu0 =  np.ones((n1,2))*np.array([0,-0.5])\n",
    "mu1 =  np.ones((n2,2))*np.array([0.3,1])\n",
    "\n",
    "e0 = np.random.randn(n1,2)*0.3\n",
    "e1 = np.matmul(np.random.randn(n2,2),np.array([[0.3,0.25],[0.0,0.05]]))\n",
    "X0 = np.concatenate((mu0+e0,mu1+e1),axis=0)"
   ]
  },
  {
   "cell_type": "code",
   "execution_count": null,
   "metadata": {
    "id": "ucwHRKLsOMMe",
    "outputId": "307f6c8c-f718-4a21-ce43-7839f533931f"
   },
   "outputs": [
    {
     "data": {
      "text/plain": [
       "<matplotlib.collections.PathCollection at 0x20d61b65788>"
      ]
     },
     "execution_count": 18,
     "metadata": {
      "tags": []
     },
     "output_type": "execute_result"
    },
    {
     "data": {
      "image/png": "[encoded data removed]",
      "text/plain": [
       "<Figure size 432x288 with 1 Axes>"
      ]
     },
     "metadata": {
      "needs_background": "light",
      "tags": []
     },
     "output_type": "display_data"
    }
   ],
   "source": [
    "plt.scatter(X0[:,0],X0[:,1],c=np.concatenate((np.zeros(n1),np.ones(n2))))"
   ]
  },
  {
   "cell_type": "code",
   "execution_count": null,
   "metadata": {
    "id": "v9XRkL_rOMMe",
    "outputId": "680c61bb-2ff7-4f76-bc3b-32141c1487bf"
   },
   "outputs": [
    {
     "data": {
      "text/plain": [
       "<matplotlib.collections.PathCollection at 0x20d61b34e08>"
      ]
     },
     "execution_count": 19,
     "metadata": {
      "tags": []
     },
     "output_type": "execute_result"
    },
    {
     "data": {
      "image/png": "[encoded data removed]",
      "text/plain": [
       "<Figure size 432x288 with 1 Axes>"
      ]
     },
     "metadata": {
      "needs_background": "light",
      "tags": []
     },
     "output_type": "display_data"
    }
   ],
   "source": [
    "# The circles dataset\n",
    "r0 = np.random.random(n1)*0.6+1\n",
    "theta0 = np.random.random(n1)*2*np.pi\n",
    "x00 = r0*np.cos(theta0)\n",
    "x01 = r0*np.sin(theta0)\n",
    "x0 = np.concatenate((x00.reshape((-1,1)),x01.reshape((-1,1))),axis=1)\n",
    "\n",
    "r1 = np.random.random(n2)*0.1+2.0\n",
    "theta1 = np.random.random(n2)*2*np.pi\n",
    "x10 = r1*np.cos(theta1)\n",
    "x11 = r1*np.sin(theta1)\n",
    "x1 = np.concatenate((x10.reshape((-1,1)),x11.reshape((-1,1))),axis=1)\n",
    "\n",
    "X1 = np.concatenate((x0,x1),axis=0)\n",
    "\n",
    "plt.scatter(X1[:,0],X1[:,1],c=np.concatenate((np.zeros(n1),np.ones(n2))))"
   ]
  },
  {
   "cell_type": "markdown",
   "metadata": {
    "id": "njQxCPmzOMMe"
   },
   "source": [
    "\n",
    "### Clustering as non-convex optimization\n",
    "\n",
    "Our first take uses a lot of the ingredients we developed for MDS. We operate on the rows of a data matrix $\\bX$ and the analysis requires a *metric* $d(\\bx_i,\\bx_j)$ - as before, the choice is driven by the following considerations:\n",
    "  + computational convenience (we will go along with this below)\n",
    "  + chosen to make sense for the application at hand - this is crucial and requires subject-matter knowledge\n",
    "  \n",
    "Then, clustering tries to find a local minimum to the following loss function: \n",
    "\n",
    "$$L(\\bz_1,\\ldots\\bz_n) = \\sum_{k=1}^K \\sum_{i} \\sum_j z_{ik}z_{jk} d(\\bx_i,\\bx_j)$$\n",
    "\n",
    "Can you understand what this loss function is trying to achieve? "
   ]
  },
  {
   "cell_type": "markdown",
   "metadata": {
    "id": "9e3v9DJ9OMMe"
   },
   "source": [
    "This is a **discrete optimization** (aka **combinatorial optimization**) problem and *in principle* can be solved by complete enumeration. However, this is completely impractical for moderate $n$\n",
    "\n",
    "Note that as defined above clustering tries to minimize within-cluster distances, but little math shows that this is equivalent to maximizing between-cluster distances. "
   ]
  },
  {
   "cell_type": "markdown",
   "metadata": {
    "id": "HVgWsIh0OMMe"
   },
   "source": [
    "Convenience dictates our next step: choose a metric for which we can come up with an algorithm to minimize loss that has reasonable performance and *scales* linearly with $n$, hence can be applied to big data. \n",
    "\n",
    "Very much like the *classical scaling* the Euclidean metric turns out to be convenient. One of the main reasons for why it makes life easy is the following property, which follows from *little math*: \n",
    "\n",
    "$$\\arg \\min L(\\bz_1,\\ldots\\bz_n) = \\arg \\min L(\\bz_1,\\ldots,\\bz_n,\\bmu_1,\\ldots,\\bmu_K)$$ \n",
    "\n",
    "where\n",
    "\n",
    "$$L(\\bz_1,\\ldots,\\bz_n,\\bmu_1,\\ldots,\\bmu_K) =  \\sum_{k=1}^K \\sum_{i}  z_{ik} \\|\\bx_i - \\bmu_k\\|^2$$\n",
    "\n",
    "We can use *coordinate-wise descent* to find a local minimum:\n",
    "+ (E-step) Given values for $\\bmu_1,\\ldots,\\bmu_K$ optimize over $\\bz_1,\\ldots,\\bz_n$:\n",
    "    + This is *distributed* across $i$ and it simply sets $\\bz_i$ such that data point $i$ is allocated to component $k$ for which $\\|\\bx_i -\\bmu_k\\|$ is smallest\n",
    "+ (M-step) Given values for $\\bz_1,\\ldots,\\bz_n$ optimize over $\\bmu_1,\\ldots,\\bmu_K$:\n",
    "    + This is *distributed* across $k$ and simply sets $\\bmu_k$ equal to the sample mean of data allocated to the component\n",
    "  \n",
    "This combination of metric and optimization algorithm yields what is known as **$K$-means algorithm**, an idea that traces back to Cox 1957\n",
    "\n",
    "Note: recall the *vector quantization* (VQ) we saw earlier? This is what it is"
   ]
  },
  {
   "cell_type": "markdown",
   "metadata": {
    "id": "Cz_ESuS8OMMe"
   },
   "source": [
    "The algorith *will* converge to a local optimum:\n",
    "+ Starting values\n",
    "+ Monitoring convergence\n",
    "+ Multiple starting \n",
    "+ Speed ups\n",
    "+ Centering the data\n",
    "+ etc"
   ]
  },
  {
   "cell_type": "markdown",
   "metadata": {
    "id": "kvlpFeAlOMMe"
   },
   "source": [
    "#### Little experiment: the synthetic datasets\n",
    "\n",
    "Before we proceed any further lets try out this algorithm on our two datasets - and lets run each a few times!\n"
   ]
  },
  {
   "cell_type": "code",
   "execution_count": null,
   "metadata": {
    "id": "PtihPDhCOMMe"
   },
   "outputs": [],
   "source": [
    "from sklearn.cluster import KMeans\n",
    "res0 =  KMeans(n_clusters=2,algorithm=\"full\",max_iter=30).fit(X0)\n",
    "res1 =  KMeans(n_clusters=2,algorithm=\"full\",max_iter=30).fit(X1)"
   ]
  },
  {
   "cell_type": "code",
   "execution_count": null,
   "metadata": {
    "id": "vf6WMa2LOMMe",
    "outputId": "039b2839-c567-4cd0-dacf-2151b50be52a"
   },
   "outputs": [
    {
     "data": {
      "text/plain": [
       "<matplotlib.collections.PathCollection at 0x20d6206d8c8>"
      ]
     },
     "execution_count": 21,
     "metadata": {
      "tags": []
     },
     "output_type": "execute_result"
    },
    {
     "data": {
      "image/png": "[encoded data removed]",
      "text/plain": [
       "<Figure size 432x288 with 1 Axes>"
      ]
     },
     "metadata": {
      "needs_background": "light",
      "tags": []
     },
     "output_type": "display_data"
    }
   ],
   "source": [
    "plt.scatter(X0[:,0],X0[:,1],c=res0.labels_)"
   ]
  },
  {
   "cell_type": "code",
   "execution_count": null,
   "metadata": {
    "id": "dSCwd3FuOMMf",
    "outputId": "1c5623b3-81fa-4826-aabf-f43bc4c46e48"
   },
   "outputs": [
    {
     "data": {
      "text/plain": [
       "<matplotlib.collections.PathCollection at 0x20d620da348>"
      ]
     },
     "execution_count": 22,
     "metadata": {
      "tags": []
     },
     "output_type": "execute_result"
    },
    {
     "data": {
      "image/png": "[encoded data removed]",
      "text/plain": [
       "<Figure size 432x288 with 1 Axes>"
      ]
     },
     "metadata": {
      "needs_background": "light",
      "tags": []
     },
     "output_type": "display_data"
    }
   ],
   "source": [
    "plt.scatter(X1[:,0],X1[:,1],c=res1.labels_)"
   ]
  },
  {
   "cell_type": "markdown",
   "metadata": {
    "id": "XBoSNc-iOMMf"
   },
   "source": [
    "We can see the algorithm at work: `KMeans` output in `sklearn` is not that great (e.g. we can not get the sequence of scores) but we could code this up ourselves. Here we are more interested to understand the underlying concept, so refer to some nice figs from Bishop's book: \n",
    "\n",
    "<img src=\"Kmeans.png\" width=\"800\">\n",
    "\n",
    "<img src=\"Kmeansconv.png\" width=\"800\">"
   ]
  },
  {
   "cell_type": "markdown",
   "metadata": {
    "id": "kIuafUVXOMMf"
   },
   "source": [
    "#### Data transformations\n",
    "\n",
    "K-means relies on Euclidean metric (although we already saw that it can work nicely when this is really inappropriate). This metric assumes that all variables contribute equally to distance - and spherical symmetry. \n",
    "\n",
    "We can deviate from the former by scaling variables before applying K-means. Lets first try this out in the two examples"
   ]
  },
  {
   "cell_type": "code",
   "execution_count": null,
   "metadata": {
    "id": "vA4yWvkeOMMf"
   },
   "outputs": [],
   "source": [
    "res0 =  KMeans(n_clusters=2,algorithm=\"full\",max_iter=300).fit(scl(X0,with_mean=False))\n",
    "res1 =  KMeans(n_clusters=2,algorithm=\"full\",max_iter=300).fit(scl(X1,with_mean=False))"
   ]
  },
  {
   "cell_type": "code",
   "execution_count": null,
   "metadata": {
    "id": "Ee2C-a8zOMMf"
   },
   "outputs": [],
   "source": [
    "plt.scatter(X0[:,0],X0[:,1],c=res0.labels_)"
   ]
  },
  {
   "cell_type": "code",
   "execution_count": null,
   "metadata": {
    "id": "wqzFenRyOMMf"
   },
   "outputs": [],
   "source": [
    "plt.scatter(X1[:,0],X1[:,1],c=res1.labels_)"
   ]
  },
  {
   "cell_type": "markdown",
   "metadata": {
    "id": "ue61u8OSOMMf"
   },
   "source": [
    "This type of standardization that is a good practice for many Statistical Machine Learning algorithms, is not always a good idea here - we already have an example above - especially when we reduce the imoprtance of a variable that is helpful in clustering. \n",
    "\n",
    "The following is an example from Hastie et al. that makes the same point\n",
    "\n",
    "<img src=\"../images/scaling_is_bad.png\" width=\"800\">\n"
   ]
  },
  {
   "cell_type": "markdown",
   "metadata": {
    "id": "jE7EtgVXOMMf"
   },
   "source": [
    "#### Connection to model-based clustering\n",
    "\n",
    "An alternative approach is to build a statistical model for observed and latent variables. What we describe here is the pPCA analogue to discrete latent variables\n",
    "\n",
    "The generative model is: we have densities $p_1(\\bx),\\ldots,p_K(\\bx)$, each describes a sub-population. Then \n",
    "\n",
    "$$\\bx_i | \\bz_i \\sim p_{k} (\\bx_i) \\quad if \\quad z_{ik}=1$$\n",
    "\n",
    "and \n",
    "\n",
    "$$p(z_{ik} = 1) = \\pi_k \\quad \\pi_k \\geq 0 \\quad \\sum_k \\pi_k =1 $$\n",
    "\n",
    "Then, if we marginalize the latent variable we obtain a **mixture model** for $\\bx_i$:\n",
    "\n",
    "$$p(\\bx_i) = \\sum_{k} \\pi_k p_k(\\bx_i)$$\n",
    "\n",
    "Then: if we take $p_k(\\bx) \\equiv \\Gau(\\bmu_k,v\\bI)$ K-means becomes an algorithm for computing the maximum likelihood estimate of $\\bmu_1,\\ldots,\\bmu_K$ in this model. \n",
    "\n",
    "But the nice aspect of model-based clustering is that we can accommodate different data structures, e.g., this is an illustration from Bishop: \n",
    "\n",
    "<img src=\"../images/EM_Gauss.png\" width=\"800\">\n"
   ]
  },
  {
   "cell_type": "markdown",
   "metadata": {
    "id": "NlrZ1ebyOMMg"
   },
   "source": [
    "### Spectral clustering & graph-based learning\n",
    "\n",
    "This technique has interesting intersections with a number of ideas we have discussed: at its core is PCA, it uses discrete latent variables, it is based on a metric and distances between the data points, it uses K-means clustering. \n",
    "\n",
    "The key idea here is to represent the data as a **graph** and identify \"low-d structure\" by means of graph connectivity properties. \n",
    "\n",
    "This approach has very deep roots in applied mathematics."
   ]
  },
  {
   "cell_type": "markdown",
   "metadata": {
    "id": "mC0C5LrzOMMg"
   },
   "source": [
    "Lets look at the two synthetic datasets we have created, patches and circles, to get some intuition about what kind of structure spectral clustering tries to exploit relative to K-means clustering, when they both are based on the same distance measure "
   ]
  },
  {
   "cell_type": "code",
   "execution_count": null,
   "metadata": {
    "id": "EKp_hOvpOMMg",
    "outputId": "d5b169ff-71d3-4ea0-94c3-17af9ff26585"
   },
   "outputs": [
    {
     "data": {
      "text/plain": [
       "<matplotlib.collections.PathCollection at 0x20d6213b788>"
      ]
     },
     "execution_count": 23,
     "metadata": {
      "tags": []
     },
     "output_type": "execute_result"
    },
    {
     "data": {
      "image/png": "[encoded data removed]",
      "text/plain": [
       "<Figure size 432x288 with 1 Axes>"
      ]
     },
     "metadata": {
      "needs_background": "light",
      "tags": []
     },
     "output_type": "display_data"
    }
   ],
   "source": [
    "plt.scatter(X0[:,0],X0[:,1],c=np.concatenate((np.zeros(n1),np.ones(n2))))"
   ]
  },
  {
   "cell_type": "code",
   "execution_count": null,
   "metadata": {
    "id": "Vb-48gykOMMg",
    "outputId": "e868b550-30a1-40d8-c8a8-9865460c0799"
   },
   "outputs": [
    {
     "data": {
      "text/plain": [
       "<matplotlib.collections.PathCollection at 0x20d621a2cc8>"
      ]
     },
     "execution_count": 24,
     "metadata": {
      "tags": []
     },
     "output_type": "execute_result"
    },
    {
     "data": {
      "image/png": "[encoded data removed]",
      "text/plain": [
       "<Figure size 432x288 with 1 Axes>"
      ]
     },
     "metadata": {
      "needs_background": "light",
      "tags": []
     },
     "output_type": "display_data"
    }
   ],
   "source": [
    "plt.scatter(X1[:,0],X1[:,1],c=np.concatenate((np.zeros(n1),np.ones(n2))))"
   ]
  },
  {
   "cell_type": "markdown",
   "metadata": {
    "id": "BB9Q9frgOMMg"
   },
   "source": [
    "#### Some graph connectivity concepts\n",
    "\n",
    "A graph with $n$ nodes and weight/affinity matrix $\\bA$ where $A_{ij} ≥ 0$ is a measure of strength of the edge, and $\\bA^T = \\bA$; in the simplest\n",
    "case $A_{ij} ∈ {0, 1}$, for example:\n",
    "\n",
    "<img src=\"../images/graph.png\" width=\"400\">"
   ]
  },
  {
   "cell_type": "code",
   "execution_count": null,
   "metadata": {
    "id": "ky8TnbTPOMMg",
    "outputId": "85b9a600-fc20-49d1-9479-921d72553f11"
   },
   "outputs": [
    {
     "data": {
      "text/plain": [
       "array([[0, 1, 1, 0, 0, 0, 0, 0, 0],\n",
       "       [1, 0, 1, 0, 0, 0, 0, 0, 0],\n",
       "       [1, 1, 0, 0, 0, 0, 0, 0, 0],\n",
       "       [0, 0, 0, 0, 1, 0, 0, 0, 0],\n",
       "       [0, 0, 0, 1, 0, 0, 0, 0, 0],\n",
       "       [0, 0, 0, 0, 0, 0, 1, 1, 1],\n",
       "       [0, 0, 0, 0, 0, 1, 0, 1, 1],\n",
       "       [0, 0, 0, 0, 0, 1, 1, 0, 1],\n",
       "       [0, 0, 0, 0, 0, 1, 1, 1, 0]])"
      ]
     },
     "execution_count": 25,
     "metadata": {
      "tags": []
     },
     "output_type": "execute_result"
    }
   ],
   "source": [
    "# The affinity matrix for the simple example\n",
    "\n",
    "A = np.array([[0,1,1,0,0,0,0,0,0],[1,0,1,0,0,0,0,0,0,],[1,1,0,0,0,0,0,0,0],\n",
    "              [0,0,0,0,1,0,0,0,0],[0,0,0,1,0,0,0,0,0],[0,0,0,0,0,0,1,1,1],\n",
    "              [0,0,0,0,0,1,0,1,1],[0,0,0,0,0,1,1,0,1],[0,0,0,0,0,1,1,1,0]])\n",
    "A"
   ]
  },
  {
   "cell_type": "markdown",
   "metadata": {
    "id": "iXh0xsUHOMMg"
   },
   "source": [
    "We can identify connected components in the graph by doing a PCA on the **graph Laplacian**: \n",
    "\n",
    "$$\\bB = diag(B_1,\\ldots,B_n) \\quad B_i = \\sum_j A_{ij} \\quad \\bL = \\bB- \\bA$$\n",
    "\n",
    "$\\bL$ is called the graph Laplacian (and there are various other versions of this) \n",
    "+ $\\bL$ is positive semi-definite\n",
    "+ it has a 0 eigenvalue for for each *disconnected* component\n",
    "+ the corresponding eigenvectors to a 0 eigenvalue are linear combinations of component-indicator functions"
   ]
  },
  {
   "cell_type": "code",
   "execution_count": null,
   "metadata": {
    "id": "05LgTSUCOMMg",
    "outputId": "65699305-d5b4-4bd4-bdcd-5312817de164"
   },
   "outputs": [
    {
     "data": {
      "text/plain": [
       "array([4., 4., 4., 3., 3., 2., 0., 0., 0.])"
      ]
     },
     "execution_count": 26,
     "metadata": {
      "tags": []
     },
     "output_type": "execute_result"
    }
   ],
   "source": [
    "L = np.diag(np.diag(np.matmul(A,np.ones((9,9))))) - A\n",
    "U, B, Ut = np.linalg.svd(L, full_matrices=True)\n",
    "np.round(B,4)"
   ]
  },
  {
   "cell_type": "code",
   "execution_count": null,
   "metadata": {
    "id": "q-LX-sOWOMMg",
    "outputId": "ad1a9541-95f2-44f7-d6b3-b5500f41ee20"
   },
   "outputs": [
    {
     "data": {
      "text/plain": [
       "[<matplotlib.lines.Line2D at 0x20d62206808>]"
      ]
     },
     "execution_count": 27,
     "metadata": {
      "tags": []
     },
     "output_type": "execute_result"
    },
    {
     "data": {
      "image/png": "[encoded data removed]",
      "text/plain": [
       "<Figure size 432x288 with 1 Axes>"
      ]
     },
     "metadata": {
      "needs_background": "light",
      "tags": []
     },
     "output_type": "display_data"
    }
   ],
   "source": [
    "# look at eigenvectors: \n",
    "plt.plot(U[:,-2],\"o\")"
   ]
  },
  {
   "cell_type": "markdown",
   "metadata": {
    "id": "unBoKJEKOMMg"
   },
   "source": [
    "#### Spectral clustering: the algorithm\n",
    "\n",
    "+ Embed data points in a graph: \n",
    "  + Use a metric $d(\\bx_i,\\bx_j)$ and use it to build an **affinity kernel**, e.g., $A_{ij} = exp\\{-d(\\bx_i,\\bx_j)^2/v\\}$\n",
    "  + SV-decompose $L$; look for $K$ smallest singular values\n",
    "  + run a clustering algorithm (e.g. K-means) in K -dimensions to cluster the values of the K eigenvectors into K groups"
   ]
  },
  {
   "cell_type": "markdown",
   "metadata": {
    "id": "E586RgxyOMMh"
   },
   "source": [
    "#### Exercise\n",
    "Using the Euclidean metric, and experimenting with different values of the scale parameter v, code a spectral clustering algorithm with K=2 for the patches dataset.\n",
    "Plot the final classification results using spectral clustering."
   ]
  },
  {
   "cell_type": "code",
   "execution_count": null,
   "metadata": {
    "id": "rIDKPspkOMMh"
   },
   "outputs": [],
   "source": [
    "# Your code here\n",
    "\n",
    "# Step 1: write a function to compute exp(-|x|^2/v) or given \n",
    "# vector x, use also as argument the scale v. Call the function \n",
    "# kernel\n",
    "\n",
    "\n",
    "# Step 2: create a function that from a matrix nxp X returns a \n",
    "# nxn matrix A of affinities, use also as argument the scale v.\n",
    "# Call this affinity\n",
    "\n",
    "\n",
    "\n",
    "# Step 3: create a function that takes an affinity matrix and\n",
    "# returns the graph Laplacian, the K smallest singular values and\n",
    "# the K corresponding singular vectors, where K is an argument of \n",
    "# the function. Call this graphspectral\n",
    "\n",
    "\n",
    "# Step 4: create a wrapper that takes as input a data matrix X, \n",
    "# a number of groups K, and a scale v, and returns a vector of \n",
    "# labels from 1 to K, one for each row of the data matrix. Call \n",
    "# function spectralcluster. Ideally make an argument the number of\n",
    "# iterations of Kmeans with a sensible default\n",
    "\n",
    "\n",
    "# Step 5: run spectral clustering on patches with K=2 and plot \n",
    "# results; experiment with different values of the scale"
   ]
  },
  {
   "cell_type": "markdown",
   "metadata": {
    "id": "le-dGXG1OMMh"
   },
   "source": [
    "## Some hints for the practitioner\n",
    "\n",
    "+ SVD/PCA is a useful tool (at least the starting point) for embedding high-dimensional data on lower dimensional spaces. This can be used for dimension reduction, in which case SVD achieves optimal performance in terms of explained variance, for data visualization (in which case the latent dimension is 2 or 3), for understanding the different sources of variation in the data and their relative imprortance. It can also be used as a feature extraction tool for further downstream analysis\n",
    "+ Multidimensional scaling and its variants is a useful data visualization technique for embedding high-d data in low-d spaces so that proximity in the latent space is interpreted as proximity in the original space. It is also very useful analysis tool when the data are only given in terms of comparisons, as for example in marketing studies. Classical scaling is based on basic SVD\n",
    "+ Exciting applications, interpretations and extensions of PCA are available when the matrix factorization point of view is taken. This allows to embed on a common space both the rows (e.g. similarity among customers) and the columns (e.g. similarity among products) of the data matrix. \n",
    "+ Grouping data is effectively an association of the rows in a data matrix with discrete latent variables. This (can) involve distance matrices, and their choice is critical to capture important qualitative and quantitative differences. K-means is an algorithm to optimize a loss function built around the Euclidean distance. More interesting distances will be associated to difficult optimization problems. Probabilistic unsupervised learning can be very interesting in these cases.\n",
    "+ Graph-based methods use graph-distances to capture the distance between rows in the data matrix. Spectral clustering, which computationally is also based on SVD, is a powerful such method"
   ]
  },
  {
   "cell_type": "code",
   "execution_count": null,
   "metadata": {
    "id": "iUiaN_fROMMh"
   },
   "outputs": [],
   "source": []
  },
  {
   "cell_type": "markdown",
   "metadata": {
    "id": "sqGStrM3OMMh"
   },
   "source": [
    "## References\n",
    "\n",
    "Hastie, T., Tibshirani, R., Friedman, J., 2009. *Elements of Statistical Learning*. 2nd Edition. Chapter 14\n",
    "\n",
    "Bishop, C.M., 2006 *Pattern recognition and machine learning*. Chapters 9 and 12 \n",
    "\n",
    "Cox, D.R. (1957) Note on grouping.J. Amer. Statist. Assoc. 52, 543-547.\n",
    "\n",
    "Tibshinari, R., Walther, G., Hastie, T., 2001. *Estimating the number of clusters in a data set via gap statistic*. J.R. Statis.Soc. B (2001) 63, part2: 411-423. https://web.stanford.edu/~hastie/Papers/gap.pdf"
   ]
  },
  {
   "cell_type": "code",
   "execution_count": null,
   "metadata": {
    "id": "SxBW5Z5xOMMh"
   },
   "outputs": [],
   "source": []
  }
 ],
 "metadata": {
  "colab": {
   "name": "Copy of unsupervised.ipynb",
   "provenance": []
  },
  "kernelspec": {
   "display_name": "Python 3",
   "language": "python",
   "name": "python3"
  },
  "language_info": {
   "codemirror_mode": {
    "name": "ipython",
    "version": 3
   },
   "file_extension": ".py",
   "mimetype": "text/x-python",
   "name": "python",
   "nbconvert_exporter": "python",
   "pygments_lexer": "ipython3",
   "version": "3.8.5"
  },
  "toc": {
   "base_numbering": 1,
   "nav_menu": {},
   "number_sections": false,
   "sideBar": true,
   "skip_h1_title": true,
   "title_cell": "Table of Contents",
   "title_sidebar": "Contents",
   "toc_cell": false,
   "toc_position": {},
   "toc_section_display": true,
   "toc_window_display": true
  }
 },
 "nbformat": 4,
 "nbformat_minor": 1
}
